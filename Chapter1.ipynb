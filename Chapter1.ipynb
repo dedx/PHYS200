{
 "metadata": {
  "name": "Chapter1"
 },
 "nbformat": 3,
 "worksheets": [
  {
   "cells": [
    {
     "cell_type": "plaintext",
     "source": [
      "Exercise 1.1 Write a well-structured English sentence with invalid tokens in it. Then write another sentence with all valid tokens but with invalid structure."
     ]
    },
    {
     "cell_type": "plaintext",
     "source": [
      "My daughter asked me for 65291*&(!) milk with @$^! +_)."
     ]
    },
    {
     "cell_type": "plaintext",
     "source": [
      "daughter My pleasant purple painted throats."
     ]
    },
    {
     "cell_type": "code",
     "collapsed": true,
     "input": [],
     "language": "python",
     "outputs": []
    },
    {
     "cell_type": "plaintext",
     "source": [
      "Exercise 1.2 Use a web browser to go to the Python website python.org. This page contains information about Python and links to Python-related pages, and it gives you the ability to search the Python documentation.",
      "For example, if you enter print in the search window, the first link that appears is the documentation of the print statement. At this point, not all of it will make sense to you, but it is good to know where it is."
     ]
    },
    {
     "cell_type": "plaintext",
     "source": [
      "Exercise 1.3 Start the Python interpreter and type help() to start the online help utility. Or you can type help('print') to get information about the print statement."
     ]
    },
    {
     "cell_type": "code",
     "collapsed": false,
     "input": [
      "help()"
     ],
     "language": "python",
     "outputs": [
      {
       "ename": "StdinNotImplementedError",
       "evalue": "raw_input was called, but this frontend does not support stdin.",
       "output_type": "pyerr",
       "traceback": [
        "\u001b[0;31m---------------------------------------------------------------------------\u001b[0m\n\u001b[0;31mStdinNotImplementedError\u001b[0m                  Traceback (most recent call last)",
        "\u001b[0;32m/Users/jklay/PHYS200/<ipython-input-1-39f0db9d7c42>\u001b[0m in \u001b[0;36m<module>\u001b[0;34m()\u001b[0m\n\u001b[0;32m----> 1\u001b[0;31m \u001b[0mhelp\u001b[0m\u001b[0;34m(\u001b[0m\u001b[0;34m)\u001b[0m\u001b[0;34m\u001b[0m\u001b[0m\n\u001b[0m",
        "\u001b[0;32m/Library/Frameworks/EPD64.framework/Versions/7.2/lib/python2.7/site.pyc\u001b[0m in \u001b[0;36m__call__\u001b[0;34m(self, *args, **kwds)\u001b[0m\n\u001b[1;32m    465\u001b[0m     \u001b[0;32mdef\u001b[0m \u001b[0m__call__\u001b[0m\u001b[0;34m(\u001b[0m\u001b[0mself\u001b[0m\u001b[0;34m,\u001b[0m \u001b[0;34m*\u001b[0m\u001b[0margs\u001b[0m\u001b[0;34m,\u001b[0m \u001b[0;34m**\u001b[0m\u001b[0mkwds\u001b[0m\u001b[0;34m)\u001b[0m\u001b[0;34m:\u001b[0m\u001b[0;34m\u001b[0m\u001b[0m\n\u001b[1;32m    466\u001b[0m         \u001b[0;32mimport\u001b[0m \u001b[0mpydoc\u001b[0m\u001b[0;34m\u001b[0m\u001b[0m\n\u001b[0;32m--> 467\u001b[0;31m         \u001b[0;32mreturn\u001b[0m \u001b[0mpydoc\u001b[0m\u001b[0;34m.\u001b[0m\u001b[0mhelp\u001b[0m\u001b[0;34m(\u001b[0m\u001b[0;34m*\u001b[0m\u001b[0margs\u001b[0m\u001b[0;34m,\u001b[0m \u001b[0;34m**\u001b[0m\u001b[0mkwds\u001b[0m\u001b[0;34m)\u001b[0m\u001b[0;34m\u001b[0m\u001b[0m\n\u001b[0m\u001b[1;32m    468\u001b[0m \u001b[0;34m\u001b[0m\u001b[0m\n\u001b[1;32m    469\u001b[0m \u001b[0;32mdef\u001b[0m \u001b[0msethelper\u001b[0m\u001b[0;34m(\u001b[0m\u001b[0;34m)\u001b[0m\u001b[0;34m:\u001b[0m\u001b[0;34m\u001b[0m\u001b[0m\n",
        "\u001b[0;32m/Library/Frameworks/EPD64.framework/Versions/7.2/lib/python2.7/pydoc.pyc\u001b[0m in \u001b[0;36m__call__\u001b[0;34m(self, request)\u001b[0m\n\u001b[1;32m   1728\u001b[0m         \u001b[0;32melse\u001b[0m\u001b[0;34m:\u001b[0m\u001b[0;34m\u001b[0m\u001b[0m\n\u001b[1;32m   1729\u001b[0m             \u001b[0mself\u001b[0m\u001b[0;34m.\u001b[0m\u001b[0mintro\u001b[0m\u001b[0;34m(\u001b[0m\u001b[0;34m)\u001b[0m\u001b[0;34m\u001b[0m\u001b[0m\n\u001b[0;32m-> 1730\u001b[0;31m             \u001b[0mself\u001b[0m\u001b[0;34m.\u001b[0m\u001b[0minteract\u001b[0m\u001b[0;34m(\u001b[0m\u001b[0;34m)\u001b[0m\u001b[0;34m\u001b[0m\u001b[0m\n\u001b[0m\u001b[1;32m   1731\u001b[0m             self.output.write('''\n\u001b[1;32m   1732\u001b[0m \u001b[0mYou\u001b[0m \u001b[0mare\u001b[0m \u001b[0mnow\u001b[0m \u001b[0mleaving\u001b[0m \u001b[0mhelp\u001b[0m \u001b[0;32mand\u001b[0m \u001b[0mreturning\u001b[0m \u001b[0mto\u001b[0m \u001b[0mthe\u001b[0m \u001b[0mPython\u001b[0m \u001b[0minterpreter\u001b[0m\u001b[0;34m.\u001b[0m\u001b[0;34m\u001b[0m\u001b[0m\n",
        "\u001b[0;32m/Library/Frameworks/EPD64.framework/Versions/7.2/lib/python2.7/pydoc.pyc\u001b[0m in \u001b[0;36minteract\u001b[0;34m(self)\u001b[0m\n\u001b[1;32m   1740\u001b[0m         \u001b[0;32mwhile\u001b[0m \u001b[0mTrue\u001b[0m\u001b[0;34m:\u001b[0m\u001b[0;34m\u001b[0m\u001b[0m\n\u001b[1;32m   1741\u001b[0m             \u001b[0;32mtry\u001b[0m\u001b[0;34m:\u001b[0m\u001b[0;34m\u001b[0m\u001b[0m\n\u001b[0;32m-> 1742\u001b[0;31m                 \u001b[0mrequest\u001b[0m \u001b[0;34m=\u001b[0m \u001b[0mself\u001b[0m\u001b[0;34m.\u001b[0m\u001b[0mgetline\u001b[0m\u001b[0;34m(\u001b[0m\u001b[0;34m'help> '\u001b[0m\u001b[0;34m)\u001b[0m\u001b[0;34m\u001b[0m\u001b[0m\n\u001b[0m\u001b[1;32m   1743\u001b[0m                 \u001b[0;32mif\u001b[0m \u001b[0;32mnot\u001b[0m \u001b[0mrequest\u001b[0m\u001b[0;34m:\u001b[0m \u001b[0;32mbreak\u001b[0m\u001b[0;34m\u001b[0m\u001b[0m\n\u001b[1;32m   1744\u001b[0m             \u001b[0;32mexcept\u001b[0m \u001b[0;34m(\u001b[0m\u001b[0mKeyboardInterrupt\u001b[0m\u001b[0;34m,\u001b[0m \u001b[0mEOFError\u001b[0m\u001b[0;34m)\u001b[0m\u001b[0;34m:\u001b[0m\u001b[0;34m\u001b[0m\u001b[0m\n",
        "\u001b[0;32m/Library/Frameworks/EPD64.framework/Versions/7.2/lib/python2.7/pydoc.pyc\u001b[0m in \u001b[0;36mgetline\u001b[0;34m(self, prompt)\u001b[0m\n\u001b[1;32m   1751\u001b[0m         \u001b[0;34m\"\"\"Read one line, using raw_input when available.\"\"\"\u001b[0m\u001b[0;34m\u001b[0m\u001b[0m\n\u001b[1;32m   1752\u001b[0m         \u001b[0;32mif\u001b[0m \u001b[0mself\u001b[0m\u001b[0;34m.\u001b[0m\u001b[0minput\u001b[0m \u001b[0;32mis\u001b[0m \u001b[0msys\u001b[0m\u001b[0;34m.\u001b[0m\u001b[0mstdin\u001b[0m\u001b[0;34m:\u001b[0m\u001b[0;34m\u001b[0m\u001b[0m\n\u001b[0;32m-> 1753\u001b[0;31m             \u001b[0;32mreturn\u001b[0m \u001b[0mraw_input\u001b[0m\u001b[0;34m(\u001b[0m\u001b[0mprompt\u001b[0m\u001b[0;34m)\u001b[0m\u001b[0;34m\u001b[0m\u001b[0m\n\u001b[0m\u001b[1;32m   1754\u001b[0m         \u001b[0;32melse\u001b[0m\u001b[0;34m:\u001b[0m\u001b[0;34m\u001b[0m\u001b[0m\n\u001b[1;32m   1755\u001b[0m             \u001b[0mself\u001b[0m\u001b[0;34m.\u001b[0m\u001b[0moutput\u001b[0m\u001b[0;34m.\u001b[0m\u001b[0mwrite\u001b[0m\u001b[0;34m(\u001b[0m\u001b[0mprompt\u001b[0m\u001b[0;34m)\u001b[0m\u001b[0;34m\u001b[0m\u001b[0m\n",
        "\u001b[0;32m/Library/Frameworks/EPD64.framework/Versions/7.2/lib/python2.7/site-packages/IPython/zmq/ipkernel.pyc\u001b[0m in \u001b[0;36m<lambda>\u001b[0;34m(prompt)\u001b[0m\n\u001b[1;32m    251\u001b[0m             \u001b[0mraw_input\u001b[0m \u001b[0;34m=\u001b[0m \u001b[0;32mlambda\u001b[0m \u001b[0mprompt\u001b[0m\u001b[0;34m=\u001b[0m\u001b[0;34m''\u001b[0m\u001b[0;34m:\u001b[0m \u001b[0mself\u001b[0m\u001b[0;34m.\u001b[0m\u001b[0m_raw_input\u001b[0m\u001b[0;34m(\u001b[0m\u001b[0mprompt\u001b[0m\u001b[0;34m,\u001b[0m \u001b[0mident\u001b[0m\u001b[0;34m,\u001b[0m \u001b[0mparent\u001b[0m\u001b[0;34m)\u001b[0m\u001b[0;34m\u001b[0m\u001b[0m\n\u001b[1;32m    252\u001b[0m         \u001b[0;32melse\u001b[0m\u001b[0;34m:\u001b[0m\u001b[0;34m\u001b[0m\u001b[0m\n\u001b[0;32m--> 253\u001b[0;31m             \u001b[0mraw_input\u001b[0m \u001b[0;34m=\u001b[0m \u001b[0;32mlambda\u001b[0m \u001b[0mprompt\u001b[0m\u001b[0;34m=\u001b[0m\u001b[0;34m''\u001b[0m \u001b[0;34m:\u001b[0m \u001b[0mself\u001b[0m\u001b[0;34m.\u001b[0m\u001b[0m_no_raw_input\u001b[0m\u001b[0;34m(\u001b[0m\u001b[0;34m)\u001b[0m\u001b[0;34m\u001b[0m\u001b[0m\n\u001b[0m\u001b[1;32m    254\u001b[0m \u001b[0;34m\u001b[0m\u001b[0m\n\u001b[1;32m    255\u001b[0m         \u001b[0;32mif\u001b[0m \u001b[0mpy3compat\u001b[0m\u001b[0;34m.\u001b[0m\u001b[0mPY3\u001b[0m\u001b[0;34m:\u001b[0m\u001b[0;34m\u001b[0m\u001b[0m\n",
        "\u001b[0;32m/Library/Frameworks/EPD64.framework/Versions/7.2/lib/python2.7/site-packages/IPython/zmq/ipkernel.pyc\u001b[0m in \u001b[0;36m_no_raw_input\u001b[0;34m(self)\u001b[0m\n\u001b[1;32m    444\u001b[0m         \"\"\"Raise StdinNotImplentedError if active frontend doesn't support\n\u001b[1;32m    445\u001b[0m         stdin.\"\"\"\n\u001b[0;32m--> 446\u001b[0;31m         raise StdinNotImplementedError(\"raw_input was called, but this \"\n\u001b[0m\u001b[1;32m    447\u001b[0m                                        \"frontend does not support stdin.\") \n\u001b[1;32m    448\u001b[0m \u001b[0;34m\u001b[0m\u001b[0m\n",
        "\u001b[0;31mStdinNotImplementedError\u001b[0m: raw_input was called, but this frontend does not support stdin."
       ]
      },
      {
       "output_type": "stream",
       "stream": "stdout",
       "text": [
        "",
        "Welcome to Python 2.7!  This is the online help utility.",
        "",
        "If this is your first time using Python, you should definitely check out",
        "the tutorial on the Internet at http://docs.python.org/tutorial/.",
        "",
        "Enter the name of any keyword, or topic to get help on writing Python",
        "programs and using Python.  To quit this help utility and return to the",
        "interpreter, just type \"quit\".",
        "",
        "To get a list of available modules, keywords, or topics, type \"keywords\",",
        "or \"topics\".",
        ""
       ]
      }
     ],
     "prompt_number": 1
    },
    {
     "cell_type": "code",
     "collapsed": false,
     "input": [
      "help('print')"
     ],
     "language": "python",
     "outputs": [
      {
       "output_type": "stream",
       "stream": "stdout",
       "text": [
        "The ``print`` statement",
        "***********************",
        "",
        "   print_stmt ::= \"print\" ([expression (\",\" expression)* [\",\"]]",
        "                  | \">>\" expression [(\",\" expression)+ [\",\"]])",
        "",
        "``print`` evaluates each expression in turn and writes the resulting",
        "object to standard output (see below).  If an object is not a string,",
        "it is first converted to a string using the rules for string",
        "conversions.  The (resulting or original) string is then written.  A",
        "space is written before each object is (converted and) written, unless",
        "the output system believes it is positioned at the beginning of a",
        "line.  This is the case (1) when no characters have yet been written",
        "to standard output, (2) when the last character written to standard",
        "output is a whitespace character except ``' '``, or (3) when the last",
        "write operation on standard output was not a ``print`` statement. (In",
        "some cases it may be functional to write an empty string to standard",
        "output for this reason.)",
        "",
        "Note: Objects which act like file objects but which are not the built-in",
        "  file objects often do not properly emulate this aspect of the file",
        "  object's behavior, so it is best not to rely on this.",
        "",
        "A ``'\\n'`` character is written at the end, unless the ``print``",
        "statement ends with a comma.  This is the only action if the statement",
        "contains just the keyword ``print``.",
        "",
        "Standard output is defined as the file object named ``stdout`` in the",
        "built-in module ``sys``.  If no such object exists, or if it does not",
        "have a ``write()`` method, a ``RuntimeError`` exception is raised.",
        "",
        "``print`` also has an extended form, defined by the second portion of",
        "the syntax described above. This form is sometimes referred to as",
        "\"``print`` chevron.\" In this form, the first expression after the",
        "``>>`` must evaluate to a \"file-like\" object, specifically an object",
        "that has a ``write()`` method as described above.  With this extended",
        "form, the subsequent expressions are printed to this file object.  If",
        "the first expression evaluates to ``None``, then ``sys.stdout`` is",
        "used as the file for output.",
        ""
       ]
      }
     ],
     "prompt_number": 2
    },
    {
     "cell_type": "plaintext",
     "source": [
      "Exercise 1.4 Start the Python interpreter and use it as a calculator. Python\u2019s syntax for math oper- ations is almost the same as standard mathematical notation. For example, the symbols +, - and / denote addition, subtraction and division, as you would expect. The symbol for multiplication is *.",
      "If you run a 10 kilometer race in 43 minutes 30 seconds, what is your average time per mile? What is your average speed in miles per hour? (Hint: there are 1.61 kilometers in a mile)."
     ]
    },
    {
     "cell_type": "code",
     "collapsed": false,
     "input": [
      "67*82+33-12"
     ],
     "language": "python",
     "outputs": [
      {
       "output_type": "pyout",
       "prompt_number": 3,
       "text": [
        "5515"
       ]
      }
     ],
     "prompt_number": 3
    },
    {
     "cell_type": "plaintext",
     "source": [
      "Number of seconds to run race:"
     ]
    },
    {
     "cell_type": "code",
     "collapsed": false,
     "input": [
      "43*60+30"
     ],
     "language": "python",
     "outputs": [
      {
       "output_type": "pyout",
       "prompt_number": 4,
       "text": [
        "2610"
       ]
      }
     ],
     "prompt_number": 4
    },
    {
     "cell_type": "plaintext",
     "source": [
      "Number of seconds per km:"
     ]
    },
    {
     "cell_type": "code",
     "collapsed": false,
     "input": [
      "_4/10"
     ],
     "language": "python",
     "outputs": [
      {
       "output_type": "pyout",
       "prompt_number": 5,
       "text": [
        "261"
       ]
      }
     ],
     "prompt_number": 5
    },
    {
     "cell_type": "code",
     "collapsed": false,
     "input": [
      "_4/10."
     ],
     "language": "python",
     "outputs": [
      {
       "output_type": "pyout",
       "prompt_number": 12,
       "text": [
        "261.0"
       ]
      }
     ],
     "prompt_number": 12
    },
    {
     "cell_type": "plaintext",
     "source": [
      "Number of seconds per mile:"
     ]
    },
    {
     "cell_type": "code",
     "collapsed": false,
     "input": [
      "_12*1.61"
     ],
     "language": "python",
     "outputs": [
      {
       "output_type": "pyout",
       "prompt_number": 15,
       "text": [
        "420.21000000000004"
       ]
      }
     ],
     "prompt_number": 15
    },
    {
     "cell_type": "plaintext",
     "source": [
      "Number of minutes per mile:"
     ]
    },
    {
     "cell_type": "code",
     "collapsed": false,
     "input": [
      "_15/60."
     ],
     "language": "python",
     "outputs": [
      {
       "output_type": "pyout",
       "prompt_number": 16,
       "text": [
        "7.003500000000001"
       ]
      }
     ],
     "prompt_number": 16
    },
    {
     "cell_type": "plaintext",
     "source": [
      "Number of hours to run race:"
     ]
    },
    {
     "cell_type": "code",
     "collapsed": false,
     "input": [
      "_4/3600."
     ],
     "language": "python",
     "outputs": [
      {
       "output_type": "pyout",
       "prompt_number": 17,
       "text": [
        "0.725"
       ]
      }
     ],
     "prompt_number": 17
    },
    {
     "cell_type": "plaintext",
     "source": [
      "Number of miles run:"
     ]
    },
    {
     "cell_type": "code",
     "collapsed": false,
     "input": [
      "10/1.61"
     ],
     "language": "python",
     "outputs": [
      {
       "output_type": "pyout",
       "prompt_number": 18,
       "text": [
        "6.211180124223602"
       ]
      }
     ],
     "prompt_number": 18
    },
    {
     "cell_type": "plaintext",
     "source": [
      "Average speed in mph:"
     ]
    },
    {
     "cell_type": "code",
     "collapsed": false,
     "input": [
      "_18/_17"
     ],
     "language": "python",
     "outputs": [
      {
       "output_type": "pyout",
       "prompt_number": 19,
       "text": [
        "8.567144998929106"
       ]
      }
     ],
     "prompt_number": 19
    },
    {
     "cell_type": "code",
     "collapsed": true,
     "input": [],
     "language": "python",
     "outputs": []
    }
   ]
  }
 ]
}