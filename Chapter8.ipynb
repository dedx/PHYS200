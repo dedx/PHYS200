{
 "metadata": {
  "name": "Chapter8"
 },
 "nbformat": 3,
 "worksheets": [
  {
   "cells": [
    {
     "cell_type": "code",
     "collapsed": true,
     "input": [
      "fruit = 'mango'",
      "letter = fruit[0]"
     ],
     "language": "python",
     "outputs": [],
     "prompt_number": 1
    },
    {
     "cell_type": "code",
     "collapsed": false,
     "input": [
      "print letter"
     ],
     "language": "python",
     "outputs": [
      {
       "output_type": "stream",
       "stream": "stdout",
       "text": [
        "m"
       ]
      }
     ],
     "prompt_number": 2
    },
    {
     "cell_type": "code",
     "collapsed": false,
     "input": [
      "len(fruit)"
     ],
     "language": "python",
     "outputs": [
      {
       "output_type": "pyout",
       "prompt_number": 3,
       "text": [
        "5"
       ]
      }
     ],
     "prompt_number": 3
    },
    {
     "cell_type": "code",
     "collapsed": true,
     "input": [
      "lastletter = fruit[-1]"
     ],
     "language": "python",
     "outputs": [],
     "prompt_number": 4
    },
    {
     "cell_type": "code",
     "collapsed": false,
     "input": [
      "print lastletter"
     ],
     "language": "python",
     "outputs": [
      {
       "output_type": "stream",
       "stream": "stdout",
       "text": [
        "o"
       ]
      }
     ],
     "prompt_number": 5
    },
    {
     "cell_type": "code",
     "collapsed": false,
     "input": [
      "index = 0",
      "while index < len(fruit):",
      "    letter = fruit[index] ",
      "    print letter",
      "    index = index + 1"
     ],
     "language": "python",
     "outputs": [
      {
       "output_type": "stream",
       "stream": "stdout",
       "text": [
        "m",
        "a",
        "n",
        "g",
        "o"
       ]
      }
     ],
     "prompt_number": 6
    },
    {
     "cell_type": "plaintext",
     "source": [
      "Exercise 8.1 Write a function that takes a string as an argument and displays the letters backward, one per line."
     ]
    },
    {
     "cell_type": "code",
     "collapsed": true,
     "input": [
      "def backward(word):",
      "    index = len(word)-1",
      "    while index >= 0:",
      "        print word[index]",
      "        index = index -1",
      "        "
     ],
     "language": "python",
     "outputs": [],
     "prompt_number": 16
    },
    {
     "cell_type": "code",
     "collapsed": false,
     "input": [
      "backward('motion')"
     ],
     "language": "python",
     "outputs": [
      {
       "output_type": "stream",
       "stream": "stdout",
       "text": [
        "n",
        "o",
        "i",
        "t",
        "o",
        "m"
       ]
      }
     ],
     "prompt_number": 17
    },
    {
     "cell_type": "code",
     "collapsed": true,
     "input": [],
     "language": "python",
     "outputs": []
    }
   ]
  }
 ]
}