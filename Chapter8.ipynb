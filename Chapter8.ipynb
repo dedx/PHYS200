{
 "metadata": {
  "name": "Chapter8"
 },
 "nbformat": 3,
 "worksheets": [
  {
   "cells": [
    {
     "cell_type": "code",
     "collapsed": true,
     "input": [
      "fruit = 'mango'",
      "letter = fruit[0]"
     ],
     "language": "python",
     "outputs": [],
     "prompt_number": 1
    },
    {
     "cell_type": "code",
     "collapsed": false,
     "input": [
      "print letter"
     ],
     "language": "python",
     "outputs": [
      {
       "output_type": "stream",
       "stream": "stdout",
       "text": [
        "m"
       ]
      }
     ],
     "prompt_number": 2
    },
    {
     "cell_type": "code",
     "collapsed": false,
     "input": [
      "len(fruit)"
     ],
     "language": "python",
     "outputs": [
      {
       "output_type": "pyout",
       "prompt_number": 3,
       "text": [
        "5"
       ]
      }
     ],
     "prompt_number": 3
    },
    {
     "cell_type": "code",
     "collapsed": true,
     "input": [
      "lastletter = fruit[-1]"
     ],
     "language": "python",
     "outputs": [],
     "prompt_number": 4
    },
    {
     "cell_type": "code",
     "collapsed": false,
     "input": [
      "print lastletter"
     ],
     "language": "python",
     "outputs": [
      {
       "output_type": "stream",
       "stream": "stdout",
       "text": [
        "o"
       ]
      }
     ],
     "prompt_number": 5
    },
    {
     "cell_type": "code",
     "collapsed": false,
     "input": [
      "index = 0",
      "while index < len(fruit):",
      "    letter = fruit[index] ",
      "    print letter",
      "    index = index + 1"
     ],
     "language": "python",
     "outputs": [
      {
       "output_type": "stream",
       "stream": "stdout",
       "text": [
        "m",
        "a",
        "n",
        "g",
        "o"
       ]
      }
     ],
     "prompt_number": 6
    },
    {
     "cell_type": "plaintext",
     "source": [
      "Exercise 8.1 Write a function that takes a string as an argument and displays the letters backward, one per line."
     ]
    },
    {
     "cell_type": "code",
     "collapsed": true,
     "input": [
      "def backward(word):",
      "    index = len(word)-1",
      "    while index >= 0:",
      "        print word[index]",
      "        index = index -1",
      "        "
     ],
     "language": "python",
     "outputs": [],
     "prompt_number": 16
    },
    {
     "cell_type": "code",
     "collapsed": false,
     "input": [
      "backward('motion')"
     ],
     "language": "python",
     "outputs": [
      {
       "output_type": "stream",
       "stream": "stdout",
       "text": [
        "n",
        "o",
        "i",
        "t",
        "o",
        "m"
       ]
      }
     ],
     "prompt_number": 17
    },
    {
     "cell_type": "plaintext",
     "source": [
      "The following example shows how to use concatenation (string addition) and a for loop to generate an abecedarian series (that is, in alphabetical order). In Robert McCloskey\u2019s book Make Way for Ducklings, the names of the ducklings are Jack, Kack, Lack, Mack, Nack, Ouack, Pack, and Quack. This loop outputs these names in order:",
      "",
      "prefixes = 'JKLMNOPQ' ",
      "suffix = 'ack'",
      "for letter in prefixes: ",
      "    print letter + suffix",
      "",
      "The output is:",
      "Jack ",
      "Kack ",
      "Lack ",
      "Mack ",
      "Nack ",
      "Oack ",
      "Pack ",
      "Qack",
      "",
      "Of course, that\u2019s not quite right because \u201cOuack\u201d and \u201cQuack\u201d are misspelled. ",
      "",
      "Exercise 8.2 Modify the program to fix this error."
     ]
    },
    {
     "cell_type": "code",
     "collapsed": false,
     "input": [
      "prefixes = 'JKLMNOPQ' ",
      "suffix = 'ack'",
      "for letter in prefixes:",
      "    if letter == 'O' or letter == 'Q':",
      "        print letter + 'u' + suffix",
      "    else:",
      "        print letter + suffix"
     ],
     "language": "python",
     "outputs": [
      {
       "output_type": "stream",
       "stream": "stdout",
       "text": [
        "Jack",
        "Kack",
        "Lack",
        "Mack",
        "Nack",
        "Ouack",
        "Pack",
        "Quack"
       ]
      }
     ],
     "prompt_number": 18
    },
    {
     "cell_type": "code",
     "collapsed": false,
     "input": [
      "print fruit"
     ],
     "language": "python",
     "outputs": [
      {
       "output_type": "stream",
       "stream": "stdout",
       "text": [
        "mango"
       ]
      }
     ],
     "prompt_number": 19
    },
    {
     "cell_type": "code",
     "collapsed": false,
     "input": [
      "print fruit[:]"
     ],
     "language": "python",
     "outputs": [
      {
       "output_type": "stream",
       "stream": "stdout",
       "text": [
        "mango"
       ]
      }
     ],
     "prompt_number": 20
    },
    {
     "cell_type": "code",
     "collapsed": false,
     "input": [
      "print fruit[:3]"
     ],
     "language": "python",
     "outputs": [
      {
       "output_type": "stream",
       "stream": "stdout",
       "text": [
        "man"
       ]
      }
     ],
     "prompt_number": 21
    },
    {
     "cell_type": "code",
     "collapsed": false,
     "input": [
      "print fruit[3:]"
     ],
     "language": "python",
     "outputs": [
      {
       "output_type": "stream",
       "stream": "stdout",
       "text": [
        "go"
       ]
      }
     ],
     "prompt_number": 22
    },
    {
     "cell_type": "code",
     "collapsed": true,
     "input": [
      "def find(word, letter): ",
      "    index = 0",
      "    while index < len(word):",
      "        if word[index] == letter:",
      "            return index ",
      "        index = index + 1",
      "    return -1"
     ],
     "language": "python",
     "outputs": [],
     "prompt_number": 23
    },
    {
     "cell_type": "code",
     "collapsed": false,
     "input": [
      "find('physics','s')"
     ],
     "language": "python",
     "outputs": [
      {
       "output_type": "pyout",
       "prompt_number": 24,
       "text": [
        "3"
       ]
      }
     ],
     "prompt_number": 24
    },
    {
     "cell_type": "code",
     "collapsed": false,
     "input": [
      "find('physics','t')"
     ],
     "language": "python",
     "outputs": [
      {
       "output_type": "pyout",
       "prompt_number": 25,
       "text": [
        "-1"
       ]
      }
     ],
     "prompt_number": 25
    },
    {
     "cell_type": "plaintext",
     "source": [
      "Exercise 8.4 Modify find so that it has a third parameter, the index in word where it should start looking."
     ]
    },
    {
     "cell_type": "code",
     "collapsed": true,
     "input": [
      "def find(word, letter, start): ",
      "    index = start",
      "    while index < len(word):",
      "        if word[index] == letter:",
      "            return index ",
      "        index = index + 1",
      "    return -1"
     ],
     "language": "python",
     "outputs": [],
     "prompt_number": 26
    },
    {
     "cell_type": "code",
     "collapsed": false,
     "input": [
      "find('physics','s',5)"
     ],
     "language": "python",
     "outputs": [
      {
       "output_type": "pyout",
       "prompt_number": 27,
       "text": [
        "6"
       ]
      }
     ],
     "prompt_number": 27
    },
    {
     "cell_type": "code",
     "collapsed": false,
     "input": [
      "find('physics','s',2)"
     ],
     "language": "python",
     "outputs": [
      {
       "output_type": "pyout",
       "prompt_number": 28,
       "text": [
        "3"
       ]
      }
     ],
     "prompt_number": 28
    },
    {
     "cell_type": "code",
     "collapsed": true,
     "input": [],
     "language": "python",
     "outputs": []
    }
   ]
  }
 ]
}