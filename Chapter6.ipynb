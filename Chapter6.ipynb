{
 "metadata": {
  "name": "Chapter6"
 },
 "nbformat": 3,
 "worksheets": [
  {
   "cells": [
    {
     "cell_type": "code",
     "collapsed": true,
     "input": [
      "def area(radius):",
      "    temp = math.pi * radius**2 ",
      "    return temp"
     ],
     "language": "python",
     "outputs": [],
     "prompt_number": 1
    },
    {
     "cell_type": "code",
     "collapsed": false,
     "input": [
      "area(5)"
     ],
     "language": "python",
     "outputs": [
      {
       "output_type": "pyout",
       "prompt_number": 2,
       "text": [
        "78.53981633974483"
       ]
      }
     ],
     "prompt_number": 2
    },
    {
     "cell_type": "plaintext",
     "source": [
      "Exercise 6.1 Write a compare function that returns 1 if x > y, 0 if x == y, and -1 if x < y."
     ]
    },
    {
     "cell_type": "code",
     "collapsed": true,
     "input": [
      "def compare(x,y):",
      "    if x > y:",
      "        return 1",
      "    if x == y:",
      "        return 0",
      "    if x < y:",
      "        return -1"
     ],
     "language": "python",
     "outputs": [],
     "prompt_number": 3
    },
    {
     "cell_type": "code",
     "collapsed": false,
     "input": [
      "compare(5,6)"
     ],
     "language": "python",
     "outputs": [
      {
       "output_type": "pyout",
       "prompt_number": 4,
       "text": [
        "-1"
       ]
      }
     ],
     "prompt_number": 4
    },
    {
     "cell_type": "code",
     "collapsed": false,
     "input": [
      "compare(6,5)"
     ],
     "language": "python",
     "outputs": [
      {
       "output_type": "pyout",
       "prompt_number": 5,
       "text": [
        "1"
       ]
      }
     ],
     "prompt_number": 5
    },
    {
     "cell_type": "code",
     "collapsed": false,
     "input": [
      "compare(5,5)"
     ],
     "language": "python",
     "outputs": [
      {
       "output_type": "pyout",
       "prompt_number": 6,
       "text": [
        "0"
       ]
      }
     ],
     "prompt_number": 6
    },
    {
     "cell_type": "plaintext",
     "source": [
      "Exercise 6.2 Use incremental development to write a function called hypotenuse that returns the length of the hypotenuse of a right triangle given the lengths of the two legs as arguments. Record each stage of the development process as you go."
     ]
    },
    {
     "cell_type": "code",
     "collapsed": true,
     "input": [
      "def hypotenuse(a,b):",
      "    \"\"\"Return the hypotensue of a triangle",
      "     with legs of length a and b",
      "    \"\"\"",
      "    return 0.0"
     ],
     "language": "python",
     "outputs": [],
     "prompt_number": 9
    },
    {
     "cell_type": "code",
     "collapsed": true,
     "input": [
      "def hypotenuse(a,b):",
      "    \"\"\"Return the hypotenuse of a triangle",
      "     with legs of length a and b",
      "    \"\"\"",
      "    a2 = a**2",
      "    b2 = b**2",
      "    print \"a = \", a, \" a**2 = \", a2",
      "    print \"b = \", b, \" b**2 = \", b2",
      "    return 0.0"
     ],
     "language": "python",
     "outputs": [],
     "prompt_number": 10
    },
    {
     "cell_type": "code",
     "collapsed": false,
     "input": [
      "hypotenuse(2,3)"
     ],
     "language": "python",
     "outputs": [
      {
       "output_type": "stream",
       "stream": "stdout",
       "text": [
        "a =  2  a**2 =  4",
        "b =  3  b**2 =  9"
       ]
      },
      {
       "output_type": "pyout",
       "prompt_number": 11,
       "text": [
        "0.0"
       ]
      }
     ],
     "prompt_number": 11
    },
    {
     "cell_type": "code",
     "collapsed": false,
     "input": [
      "hypotenuse(2.,3.)"
     ],
     "language": "python",
     "outputs": [
      {
       "output_type": "stream",
       "stream": "stdout",
       "text": [
        "a =  2.0  a**2 =  4.0",
        "b =  3.0  b**2 =  9.0"
       ]
      },
      {
       "output_type": "pyout",
       "prompt_number": 12,
       "text": [
        "0.0"
       ]
      }
     ],
     "prompt_number": 12
    },
    {
     "cell_type": "code",
     "collapsed": true,
     "input": [
      "def hypotenuse(a,b):",
      "    \"\"\"Return the hypotenuse of a triangle",
      "     with legs of length a and b",
      "    \"\"\"",
      "    a2 = a**2",
      "    b2 = b**2",
      "    print \"a = \", a, \" a**2 = \", a2",
      "    print \"b = \", b, \" b**2 = \", b2",
      "    c2 = a2+b2",
      "    print \"c**2 = \", c2",
      "    return 0.0"
     ],
     "language": "python",
     "outputs": [],
     "prompt_number": 16
    },
    {
     "cell_type": "code",
     "collapsed": false,
     "input": [
      "hypotenuse(2,3)"
     ],
     "language": "python",
     "outputs": [
      {
       "output_type": "stream",
       "stream": "stdout",
       "text": [
        "a =  2  a**2 =  4",
        "b =  3  b**2 =  9",
        "c**2 =  13"
       ]
      },
      {
       "output_type": "pyout",
       "prompt_number": 17,
       "text": [
        "0.0"
       ]
      }
     ],
     "prompt_number": 17
    },
    {
     "cell_type": "code",
     "collapsed": true,
     "input": [
      "def hypotenuse(a,b):",
      "    \"\"\"Return the hypotenuse of a triangle",
      "     with legs of length a and b",
      "    \"\"\"",
      "    a2 = a**2",
      "    b2 = b**2",
      "    print \"a = \", a, \" a**2 = \", a2",
      "    print \"b = \", b, \" b**2 = \", b2",
      "    c2 = a2+b2",
      "    c = math.sqrt(c2)",
      "    print \"c**2 = \", c2, \"c = \", c",
      "    return 0.0"
     ],
     "language": "python",
     "outputs": []
    }
   ]
  }
 ]
}