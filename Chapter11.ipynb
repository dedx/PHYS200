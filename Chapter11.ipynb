{
 "metadata": {
  "name": "Chapter11"
 },
 "nbformat": 3,
 "worksheets": [
  {
   "cells": [
    {
     "cell_type": "code",
     "collapsed": true,
     "input": [
      "eng2ger = {'one':'ein','two':'zwei','three':'drei','four':'vier'}"
     ],
     "language": "python",
     "outputs": [],
     "prompt_number": 1
    },
    {
     "cell_type": "code",
     "collapsed": false,
     "input": [
      "print eng2ger"
     ],
     "language": "python",
     "outputs": [
      {
       "output_type": "stream",
       "stream": "stdout",
       "text": [
        "{'four': 'vier', 'three': 'drei', 'two': 'zwei', 'one': 'ein'}"
       ]
      }
     ],
     "prompt_number": 2
    },
    {
     "cell_type": "code",
     "collapsed": false,
     "input": [
      "print eng2ger['two']"
     ],
     "language": "python",
     "outputs": [
      {
       "output_type": "stream",
       "stream": "stdout",
       "text": [
        "zwei"
       ]
      }
     ],
     "prompt_number": 4
    },
    {
     "cell_type": "code",
     "collapsed": false,
     "input": [
      "print eng2ger['vier']"
     ],
     "language": "python",
     "outputs": [
      {
       "ename": "KeyError",
       "evalue": "'vier'",
       "output_type": "pyerr",
       "traceback": [
        "\u001b[0;31m---------------------------------------------------------------------------\u001b[0m\n\u001b[0;31mKeyError\u001b[0m                                  Traceback (most recent call last)",
        "\u001b[0;32m/Users/jklay/PHYS200/<ipython-input-5-593ded28ae29>\u001b[0m in \u001b[0;36m<module>\u001b[0;34m()\u001b[0m\n\u001b[0;32m----> 1\u001b[0;31m \u001b[0;32mprint\u001b[0m \u001b[0meng2ger\u001b[0m\u001b[0;34m[\u001b[0m\u001b[0;34m'vier'\u001b[0m\u001b[0;34m]\u001b[0m\u001b[0;34m\u001b[0m\u001b[0m\n\u001b[0m",
        "\u001b[0;31mKeyError\u001b[0m: 'vier'"
       ]
      }
     ],
     "prompt_number": 5
    },
    {
     "cell_type": "plaintext",
     "source": [
      "Exercise 11.1 Write a function that reads the words in words.txt and stores them as keys in a dictionary. It doesn\u2019t matter what the values are. Then you can use the in operator as a fast way to check whether a string is in the dictionary."
     ]
    },
    {
     "cell_type": "code",
     "collapsed": true,
     "input": [
      "def createDict(filename):",
      "    wordsdict = dict()",
      "    fin = open(filename)",
      "    for line in fin:",
      "        word = line.strip() ",
      "        wordsdict[word] = ''",
      "    return wordsdict"
     ],
     "language": "python",
     "outputs": [],
     "prompt_number": 6
    },
    {
     "cell_type": "code",
     "collapsed": true,
     "input": [
      "standarddict = createDict('/Users/jklay/python/swampy-2.0/words.txt')"
     ],
     "language": "python",
     "outputs": [],
     "prompt_number": 7
    },
    {
     "cell_type": "code",
     "collapsed": false,
     "input": [
      "'opens' in standarddict"
     ],
     "language": "python",
     "outputs": [
      {
       "output_type": "pyout",
       "prompt_number": 8,
       "text": [
        "True"
       ]
      }
     ],
     "prompt_number": 8
    },
    {
     "cell_type": "code",
     "collapsed": false,
     "input": [
      "'pebkac' in standarddict"
     ],
     "language": "python",
     "outputs": [
      {
       "output_type": "pyout",
       "prompt_number": 9,
       "text": [
        "False"
       ]
      }
     ],
     "prompt_number": 9
    },
    {
     "cell_type": "code",
     "collapsed": true,
     "input": [
      "def histogram(s): ",
      "    d = dict()",
      "    for c in s:",
      "        if c not in d:",
      "            d[c]=1 ",
      "        else:",
      "            d[c] += 1 ",
      "    return d"
     ],
     "language": "python",
     "outputs": [],
     "prompt_number": 10
    },
    {
     "cell_type": "code",
     "collapsed": false,
     "input": [
      "histogram('ontology')"
     ],
     "language": "python",
     "outputs": [
      {
       "output_type": "pyout",
       "prompt_number": 11,
       "text": [
        "{'g': 1, 'l': 1, 'n': 1, 'o': 3, 't': 1, 'y': 1}"
       ]
      }
     ],
     "prompt_number": 11
    },
    {
     "cell_type": "code",
     "collapsed": true,
     "input": [
      "h = histogram('ontology')"
     ],
     "language": "python",
     "outputs": [],
     "prompt_number": 12
    },
    {
     "cell_type": "code",
     "collapsed": false,
     "input": [
      "print h"
     ],
     "language": "python",
     "outputs": [
      {
       "output_type": "stream",
       "stream": "stdout",
       "text": [
        "{'g': 1, 'l': 1, 'o': 3, 'n': 1, 't': 1, 'y': 1}"
       ]
      }
     ],
     "prompt_number": 13
    },
    {
     "cell_type": "plaintext",
     "source": [
      "Exercise 11.2 Dictionaries have a method called get that takes a key and a default value. If the key appears in the dictionary, get returns the corresponding value; otherwise it returns the default value.  Use get to write histogram more concisely. You should be able to eliminate the if statement."
     ]
    },
    {
     "cell_type": "code",
     "collapsed": false,
     "input": [
      "h.get('a',0)"
     ],
     "language": "python",
     "outputs": [
      {
       "output_type": "pyout",
       "prompt_number": 14,
       "text": [
        "0"
       ]
      }
     ],
     "prompt_number": 14
    },
    {
     "cell_type": "code",
     "collapsed": false,
     "input": [
      "h.get('o',0)"
     ],
     "language": "python",
     "outputs": [
      {
       "output_type": "pyout",
       "prompt_number": 15,
       "text": [
        "3"
       ]
      }
     ],
     "prompt_number": 15
    },
    {
     "cell_type": "code",
     "collapsed": true,
     "input": [
      "def histogram(s): ",
      "    d = dict()",
      "    for c in s:",
      "        d[c]=d.get(c,0)+1",
      "    return d"
     ],
     "language": "python",
     "outputs": [],
     "prompt_number": 23
    },
    {
     "cell_type": "code",
     "collapsed": false,
     "input": [
      "h = histogram('onntology')"
     ],
     "language": "python",
     "outputs": [],
     "prompt_number": 26
    },
    {
     "cell_type": "code",
     "collapsed": false,
     "input": [
      "print h"
     ],
     "language": "python",
     "outputs": [
      {
       "output_type": "stream",
       "stream": "stdout",
       "text": [
        "{'g': 1, 'l': 1, 'o': 3, 'n': 2, 't': 1, 'y': 1}"
       ]
      }
     ],
     "prompt_number": 27
    },
    {
     "cell_type": "code",
     "collapsed": true,
     "input": [],
     "language": "python",
     "outputs": []
    }
   ]
  }
 ]
}