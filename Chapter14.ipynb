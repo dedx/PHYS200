{
 "metadata": {
  "name": "Chapter14"
 },
 "nbformat": 3,
 "worksheets": [
  {
   "cells": [
    {
     "cell_type": "code",
     "collapsed": false,
     "input": [
      "os.listdir()"
     ],
     "language": "python",
     "outputs": [
      {
       "ename": "NameError",
       "evalue": "name 'os' is not defined",
       "output_type": "pyerr",
       "traceback": [
        "\u001b[0;31m---------------------------------------------------------------------------\u001b[0m\n\u001b[0;31mNameError\u001b[0m                                 Traceback (most recent call last)",
        "\u001b[0;32m/Users/jklay/PHYS200/<ipython-input-1-eff7f7465dbc>\u001b[0m in \u001b[0;36m<module>\u001b[0;34m()\u001b[0m\n\u001b[0;32m----> 1\u001b[0;31m \u001b[0mos\u001b[0m\u001b[0;34m.\u001b[0m\u001b[0mlistdir\u001b[0m\u001b[0;34m(\u001b[0m\u001b[0;34m)\u001b[0m\u001b[0;34m\u001b[0m\u001b[0m\n\u001b[0m",
        "\u001b[0;31mNameError\u001b[0m: name 'os' is not defined"
       ]
      }
     ],
     "prompt_number": 1
    },
    {
     "cell_type": "code",
     "collapsed": true,
     "input": [
      "import os"
     ],
     "language": "python",
     "outputs": [],
     "prompt_number": 2
    },
    {
     "cell_type": "code",
     "collapsed": false,
     "input": [
      "os.getcwd()"
     ],
     "language": "python",
     "outputs": [
      {
       "output_type": "pyout",
       "prompt_number": 4,
       "text": [
        "'/Users/jklay/PHYS200'"
       ]
      }
     ],
     "prompt_number": 4
    },
    {
     "cell_type": "code",
     "collapsed": false,
     "input": [
      "os.listdir(os.getcwd())"
     ],
     "language": "python",
     "outputs": [
      {
       "output_type": "pyout",
       "prompt_number": 5,
       "text": [
        "['.git',",
        " 'animate_decay.py',",
        " 'Ch2-Ex2.py',",
        " 'Ch4.3-Ex1.py',",
        " 'Ch4.3-Ex2.py',",
        " 'Ch4.3-Ex3.py',",
        " 'Ch4.3-Ex4.py',",
        " 'Ch4.3-Ex5.py',",
        " 'Ch5-Ex5.3.py',",
        " 'Ch5-Ex5.4.1.py',",
        " 'Ch5-Ex5.4.2.py',",
        " 'Ch7-Ex7.4.py',",
        " 'Chapter1.ipynb',",
        " 'Chapter10.ipynb',",
        " 'Chapter11.ipynb',",
        " 'Chapter12.ipynb',",
        " 'Chapter13.ipynb',",
        " 'Chapter2.ipynb',",
        " 'Chapter3.ipynb',",
        " 'Chapter5.ipynb',",
        " 'Chapter6.ipynb',",
        " 'Chapter7.ipynb',",
        " 'Chapter8.ipynb',",
        " 'Chapter9.ipynb',",
        " 'HuckFinn.txt',",
        " 'IntroNumPy.ipynb',",
        " 'is_triangle.py',",
        " 'MyFirstNotebook.ipynb',",
        " 'polygon.py',",
        " 'PrincessOfMars.txt',",
        " 'PRL_Copyright_Transfer.txt',",
        " 'README',",
        " 'Untitled0.ipynb']"
       ]
      }
     ],
     "prompt_number": 5
    },
    {
     "cell_type": "code",
     "collapsed": true,
     "input": [
      "def walk(dir):",
      "    for name in os.listdir(dir):",
      "        path = os.path.join(dir, name)",
      "        if os.path.isfile(path): ",
      "            print path",
      "        else: ",
      "            walk(path)"
     ],
     "language": "python",
     "outputs": [],
     "prompt_number": 8
    },
    {
     "cell_type": "code",
     "collapsed": false,
     "input": [
      "walk(os.getcwd())"
     ],
     "language": "python",
     "outputs": [
      {
       "output_type": "stream",
       "stream": "stdout",
       "text": [
        "/Users/jklay/PHYS200/.git/COMMIT_EDITMSG",
        "/Users/jklay/PHYS200/.git/config",
        "/Users/jklay/PHYS200/.git/description",
        "/Users/jklay/PHYS200/.git/HEAD",
        "/Users/jklay/PHYS200/.git/hooks/applypatch-msg.sample",
        "/Users/jklay/PHYS200/.git/hooks/commit-msg.sample",
        "/Users/jklay/PHYS200/.git/hooks/post-commit.sample",
        "/Users/jklay/PHYS200/.git/hooks/post-receive.sample",
        "/Users/jklay/PHYS200/.git/hooks/post-update.sample",
        "/Users/jklay/PHYS200/.git/hooks/pre-applypatch.sample",
        "/Users/jklay/PHYS200/.git/hooks/pre-commit.sample",
        "/Users/jklay/PHYS200/.git/hooks/pre-rebase.sample",
        "/Users/jklay/PHYS200/.git/hooks/prepare-commit-msg.sample",
        "/Users/jklay/PHYS200/.git/hooks/update.sample",
        "/Users/jklay/PHYS200/.git/index",
        "/Users/jklay/PHYS200/.git/info/exclude",
        "/Users/jklay/PHYS200/.git/logs/HEAD",
        "/Users/jklay/PHYS200/.git/logs/refs/heads/master",
        "/Users/jklay/PHYS200/.git/logs/refs/remotes/origin/master",
        "/Users/jklay/PHYS200/.git/objects/00/5baf13170e0be115d1d268f78ae2553d75492c",
        "/Users/jklay/PHYS200/.git/objects/00/be0d02da1dfc28a5dfb2f6f66e610143e83a61"
       ]
      },
      {
       "output_type": "stream",
       "stream": "stdout",
       "text": [
        "",
        "/Users/jklay/PHYS200/.git/objects/00/f3249ec41dc990310dbea2b1d69ee78492f529",
        "/Users/jklay/PHYS200/.git/objects/03/6d0b5d85878fae73c63711ec44432bcd7d83e3",
        "/Users/jklay/PHYS200/.git/objects/04/12084257bdb4c9ab88b63fa1fc6ae4029f62eb",
        "/Users/jklay/PHYS200/.git/objects/08/a40a9acba79f5b8a1cef78ec63af2f38b08192"
       ]
      },
      {
       "output_type": "stream",
       "stream": "stdout",
       "text": [
        "",
        "/Users/jklay/PHYS200/.git/objects/09/863733ab247e1f3310ef698f5b4bf9b1fa6148",
        "/Users/jklay/PHYS200/.git/objects/0b/d85eb112eddb5684954c06ab59c500bde7e34f",
        "/Users/jklay/PHYS200/.git/objects/0e/4e00a5a015607dd2c963c95e9dcf8c6bafeefb"
       ]
      },
      {
       "output_type": "stream",
       "stream": "stdout",
       "text": [
        "",
        "/Users/jklay/PHYS200/.git/objects/0f/8503cce55d85875d5000881ab68b84116c8430",
        "/Users/jklay/PHYS200/.git/objects/0f/94450744c53f472ec73435c50157c37f6abab3",
        "/Users/jklay/PHYS200/.git/objects/0f/c3ddf193b57aac5bc16fc5c3ae150d81fb78e2",
        "/Users/jklay/PHYS200/.git/objects/10/3f5234f5cc246382ad03e991885230a7184679",
        "/Users/jklay/PHYS200/.git/objects/10/8fd1051c667fd7aafd955b7e7b88237b5777b1",
        "/Users/jklay/PHYS200/.git/objects/11/f780c52d400ec7fe96eecc582602c11b13ef5f",
        "/Users/jklay/PHYS200/.git/objects/13/49afd5e57e72f0ffc819280de892f754d2abd3"
       ]
      },
      {
       "output_type": "stream",
       "stream": "stdout",
       "text": [
        "",
        "/Users/jklay/PHYS200/.git/objects/14/0d3f94262f454510a3efaa1609c2a76a964acd",
        "/Users/jklay/PHYS200/.git/objects/16/9f00f4865c1403b58acd5740f72b6e253c6e0b",
        "/Users/jklay/PHYS200/.git/objects/17/d61b0aa82512595f4daf2b09f7115a765e6ba6",
        "/Users/jklay/PHYS200/.git/objects/17/ece27ce2a9e6b40a26985eb303c3393de7429d",
        "/Users/jklay/PHYS200/.git/objects/18/a70c0391653de60f1c8bd7b19fbe855d72801d",
        "/Users/jklay/PHYS200/.git/objects/18/edcc1cb052aec2db9af60b08b1d00c755bc279",
        "/Users/jklay/PHYS200/.git/objects/19/3e6db97a739c68a275dece0afb2d7406dcd53e",
        "/Users/jklay/PHYS200/.git/objects/19/613b7e32e962cf1b8ae5bad43b4fb771f0c414",
        "/Users/jklay/PHYS200/.git/objects/1c/622505292fd2aa6c7ac47a41dea9cc2885a3ce"
       ]
      },
      {
       "output_type": "stream",
       "stream": "stdout",
       "text": [
        "",
        "/Users/jklay/PHYS200/.git/objects/1c/7aa9bc8f01cc9c4609127338ea1d09f8ff60c5",
        "/Users/jklay/PHYS200/.git/objects/1d/17b376e1e064d6de5683cdd0df0118cb83df5b",
        "/Users/jklay/PHYS200/.git/objects/1f/c220bef9cdaf5481027dee76b8cba402f5739b",
        "/Users/jklay/PHYS200/.git/objects/22/99e761b407d0c10e36f996a5756e6664481ec9",
        "/Users/jklay/PHYS200/.git/objects/23/6ebcb3020ebd7685420f785b4c54c25786f11c",
        "/Users/jklay/PHYS200/.git/objects/24/bea4f33ef22ece5a794d6658d28f300031cfb6"
       ]
      },
      {
       "output_type": "stream",
       "stream": "stdout",
       "text": [
        "",
        "/Users/jklay/PHYS200/.git/objects/24/fc9d0eaefca5fd4280a31816d1380b12f84a90",
        "/Users/jklay/PHYS200/.git/objects/25/fc51767e1936d087427cfb3749d4d597aa428f",
        "/Users/jklay/PHYS200/.git/objects/27/eab6cfdbe7450a8778a77272b9fd5db147ad82",
        "/Users/jklay/PHYS200/.git/objects/28/646bb63c592edd270a88f6ccce3419703aea25",
        "/Users/jklay/PHYS200/.git/objects/2c/5ff9d97dde91eb1d81bbae0117907c0c24fb69",
        "/Users/jklay/PHYS200/.git/objects/2c/dfda1da3d7c226bad96c6492827a2ac33eba18",
        "/Users/jklay/PHYS200/.git/objects/2d/90d78043aea931c25377e3771f10f5073c8f9a",
        "/Users/jklay/PHYS200/.git/objects/2e/0b2ae13e22b8422d72c4b24300911808286523",
        "/Users/jklay/PHYS200/.git/objects/2f/1ab66327d9eec1125d7399d8e90206a668b162",
        "/Users/jklay/PHYS200/.git/objects/2f/679a0860cefe426743f2d8b43380f6f3579204",
        "/Users/jklay/PHYS200/.git/objects/32/a207bb5196ed10f7c8620ce7299b6ccf919bc0"
       ]
      },
      {
       "output_type": "stream",
       "stream": "stdout",
       "text": [
        "",
        "/Users/jklay/PHYS200/.git/objects/34/346eb7d5c677a882f6c3956dad04cd4542f2c5",
        "/Users/jklay/PHYS200/.git/objects/34/7256d602f299397e852bc706fdb8862e10601c",
        "/Users/jklay/PHYS200/.git/objects/34/b40ff0fb41b6218579aadfa887a3052d6cefa7",
        "/Users/jklay/PHYS200/.git/objects/34/c20fa00da3f28e8dd69ae04cff50bfab64ab38",
        "/Users/jklay/PHYS200/.git/objects/34/de4effabebf0a1676f8ade130e8ce4ce0f090a",
        "/Users/jklay/PHYS200/.git/objects/35/0dee9521e13251d04675f337385e8506697c01",
        "/Users/jklay/PHYS200/.git/objects/35/4b7146e5e102f1e0008c2ccc01a78489873118",
        "/Users/jklay/PHYS200/.git/objects/36/8412fa149ae174333e69f6146023739eae1f2c",
        "/Users/jklay/PHYS200/.git/objects/38/2c3f84f33b40a569466dae404d0fa85912a1dd",
        "/Users/jklay/PHYS200/.git/objects/38/382272000e4d27d9fd5af56949e00881f71a88",
        "/Users/jklay/PHYS200/.git/objects/40/98bda956b3bc6db975ed46df5bea2690b6b08b",
        "/Users/jklay/PHYS200/.git/objects/42/4955244b5e6009e71f02abae3b6a9be99993b0",
        "/Users/jklay/PHYS200/.git/objects/43/e1932f087932673994ab231ab79cd86216c4be"
       ]
      },
      {
       "output_type": "stream",
       "stream": "stdout",
       "text": [
        "",
        "/Users/jklay/PHYS200/.git/objects/44/7c1076e6a0400eebf998a787e21219165bac3a",
        "/Users/jklay/PHYS200/.git/objects/45/6b634edf4e280013a27d2ce92a6ab2ee28911a",
        "/Users/jklay/PHYS200/.git/objects/45/b661cd686f85119119434a5e71976a8972011e",
        "/Users/jklay/PHYS200/.git/objects/49/63e9e100b227a53c48c8c9cc1873d185b14259",
        "/Users/jklay/PHYS200/.git/objects/4a/26c3ba7e2ab4013bddd200efe86711df4acad7",
        "/Users/jklay/PHYS200/.git/objects/4b/0cb6c47c644e7eb0fb4e6ea1a6f1726f460851",
        "/Users/jklay/PHYS200/.git/objects/4b/ebfa9d56f4a167735ca3d6f94e3c128f59d714",
        "/Users/jklay/PHYS200/.git/objects/4c/e5039f979de896c7a93ac4ce4355b39f92362b",
        "/Users/jklay/PHYS200/.git/objects/4d/ebbf2845f4993f7299062a950cbd06a3f6be87",
        "/Users/jklay/PHYS200/.git/objects/4e/11092a8aacae5ca4f683b20842a09556fd83c6",
        "/Users/jklay/PHYS200/.git/objects/51/d25c78d902f6ec2ad57e5c7bcc003cea391d8e"
       ]
      },
      {
       "output_type": "stream",
       "stream": "stdout",
       "text": [
        "",
        "/Users/jklay/PHYS200/.git/objects/52/bd9caaa086c5515d1ee5483677f7d0d2a11d7b",
        "/Users/jklay/PHYS200/.git/objects/53/584bb7af161900eb1180d9bc158963b78a9184",
        "/Users/jklay/PHYS200/.git/objects/54/3b9bebdc6bd5c4b22136034a95dd097a57d3dd",
        "/Users/jklay/PHYS200/.git/objects/57/05dd3128cc54d8ae48d280e6e1b4e02e62876a",
        "/Users/jklay/PHYS200/.git/objects/59/8a23e8167e7c7df4a4b0053b7dd50f740b5105",
        "/Users/jklay/PHYS200/.git/objects/5a/1a95d42e8da92a765e0d294689e191f976fc36",
        "/Users/jklay/PHYS200/.git/objects/5a/4463853e9b096d3bf9677fa4b8fbd37e456ba5",
        "/Users/jklay/PHYS200/.git/objects/5b/68700a0a1fdba5ef15c4f47a0c0edee608b248",
        "/Users/jklay/PHYS200/.git/objects/5b/7340a70a032b6fbdd4c30f2352fc4df69009e0",
        "/Users/jklay/PHYS200/.git/objects/5e/80cf34b75d7106295a30371d9c05b953d82987",
        "/Users/jklay/PHYS200/.git/objects/5e/8d9ba2dfd77259c0dcd694d9a51dd3fb8a95bf",
        "/Users/jklay/PHYS200/.git/objects/5f/36038b3ccb77a6d307492c05ab1b2e147c52cf",
        "/Users/jklay/PHYS200/.git/objects/62/47c776a33de4f12fa86117ea12f7584ec3d4fc",
        "/Users/jklay/PHYS200/.git/objects/64/cd7dbf1ce62adba9ce170d4b174e942f96b90f",
        "/Users/jklay/PHYS200/.git/objects/67/8296ab95387483090c4b2b39a51d18a396518f",
        "/Users/jklay/PHYS200/.git/objects/67/ef598d990610a38111231077c818bdea3f3c68",
        "/Users/jklay/PHYS200/.git/objects/69/ad25d1137cc1b84ed73d6774a3eaea83cee6cf"
       ]
      },
      {
       "output_type": "stream",
       "stream": "stdout",
       "text": [
        "",
        "/Users/jklay/PHYS200/.git/objects/6c/3228189b73adf0d41beb4fa85187775e96da22",
        "/Users/jklay/PHYS200/.git/objects/6e/60064b21b1e5390fef229512832c13c03b3842",
        "/Users/jklay/PHYS200/.git/objects/72/1e075fa82bfa97f7ffb340c1851d22f3d37804",
        "/Users/jklay/PHYS200/.git/objects/74/3c24b2a918267dcc50398ffd78bb5123370471",
        "/Users/jklay/PHYS200/.git/objects/77/d8531631468df8da6a4db22410aabba2d9b35b",
        "/Users/jklay/PHYS200/.git/objects/78/4b312deb6241ebf9c7f545f7c38a850c480bf5",
        "/Users/jklay/PHYS200/.git/objects/78/7f20ce771cf8fcf0adf8fb334aeb3374856657",
        "/Users/jklay/PHYS200/.git/objects/7a/8c636421756159287eb532a0f356ea1f4daef5",
        "/Users/jklay/PHYS200/.git/objects/7d/10d3a73ecdc39e9a1ce8cacb733053c2087349",
        "/Users/jklay/PHYS200/.git/objects/7e/2a4d28b3a461debe2b956f788e6357e6eb8085",
        "/Users/jklay/PHYS200/.git/objects/7e/36611d8e08449c1a62005538408e9b8708aae1",
        "/Users/jklay/PHYS200/.git/objects/7e/a8cf44c201d3ba2cb3f0a17e9ef144d633d2d6",
        "/Users/jklay/PHYS200/.git/objects/7f/6d7215e11a719f01b4c16e4e254a759f678bac",
        "/Users/jklay/PHYS200/.git/objects/82/01af57096c818dba458f07e577b41cf1985b07",
        "/Users/jklay/PHYS200/.git/objects/82/738c0ddc738c5ebad68166ff12b2954683015a",
        "/Users/jklay/PHYS200/.git/objects/88/d679b919572682d59729b20e203237b93548bd",
        "/Users/jklay/PHYS200/.git/objects/8a/19551159e83f6480c78153c6dd75e5988443fc",
        "/Users/jklay/PHYS200/.git/objects/8a/262c98311a3abd48065ad063b5ccfd694b1f85",
        "/Users/jklay/PHYS200/.git/objects/8a/c262706a149b95d2a57f5ac6ddd2a316bf01ad",
        "/Users/jklay/PHYS200/.git/objects/8b/9b629133dfac746b0c72584b3ea1765ea25452",
        "/Users/jklay/PHYS200/.git/objects/8b/a23a58685bdb1ddc2ddab9bf2c9baec97f4121",
        "/Users/jklay/PHYS200/.git/objects/8b/df552704508109d2e33fbe7416353c4438957a",
        "/Users/jklay/PHYS200/.git/objects/8c/94992195dd865d21301f38c2b25db25739b61e",
        "/Users/jklay/PHYS200/.git/objects/8d/686304545cdac612bb25309960c8faa290e3a6",
        "/Users/jklay/PHYS200/.git/objects/8d/797e02698f2ffc3521ab2d476c36d2f6920fd3",
        "/Users/jklay/PHYS200/.git/objects/8e/55d81c2baa0e3c22bf1af88f938da77f22af83",
        "/Users/jklay/PHYS200/.git/objects/8f/21c167d676b04e716fa5b260891bae91983bfa"
       ]
      },
      {
       "output_type": "stream",
       "stream": "stdout",
       "text": [
        "",
        "/Users/jklay/PHYS200/.git/objects/8f/9a93d882e29bce13564c7fa7d9964fac1c9ac9",
        "/Users/jklay/PHYS200/.git/objects/92/200047db0273dc2026dadda16d753ec8e64c6b",
        "/Users/jklay/PHYS200/.git/objects/97/2f90498c190bbb5daf49e8d73ca44369290589",
        "/Users/jklay/PHYS200/.git/objects/99/a5623d985093ec1bdf34cb7096cfaa8738e239",
        "/Users/jklay/PHYS200/.git/objects/9b/4e23f5b78e917d5f612e4507222fcc81e529c0",
        "/Users/jklay/PHYS200/.git/objects/9e/1758d3cb818cfea2ce2e20d4ca71b72dc71a93",
        "/Users/jklay/PHYS200/.git/objects/9e/8586090d90c774e96505c7190b3eddbb6be20c",
        "/Users/jklay/PHYS200/.git/objects/9f/ad12d532aac96e86aa067d2f59a32d3bb74434",
        "/Users/jklay/PHYS200/.git/objects/a2/1e9e332a4b8bbebc19723914d71a139b37396b",
        "/Users/jklay/PHYS200/.git/objects/a2/a284d033d8cd01d494885df045654f22348e9a",
        "/Users/jklay/PHYS200/.git/objects/a3/6bcf6b5cf1a176906cb7bc1d323a69bbaf12ba",
        "/Users/jklay/PHYS200/.git/objects/a3/71d6bf854c3ea32dd270d5f936d5c5f4c9b16a",
        "/Users/jklay/PHYS200/.git/objects/a4/14d375c426ef9875295fe12761d174d67334ef",
        "/Users/jklay/PHYS200/.git/objects/a5/591ceb676bdb026554ed334b57b5bd83ec3181"
       ]
      },
      {
       "output_type": "stream",
       "stream": "stdout",
       "text": [
        "",
        "/Users/jklay/PHYS200/.git/objects/a9/9771e6eae022d211004d9d9f4a5765965d83bf",
        "/Users/jklay/PHYS200/.git/objects/a9/d40e51f12efa39134be7b86b3b02478c385936",
        "/Users/jklay/PHYS200/.git/objects/ab/bcba7945c40a9fc877cf29945b1537fb682a8e",
        "/Users/jklay/PHYS200/.git/objects/ab/fdb29026d15c3d0281ad89ce4be5560a56f375",
        "/Users/jklay/PHYS200/.git/objects/ac/160c3ca2a548c09e4dc8819da21f297f3dccc3",
        "/Users/jklay/PHYS200/.git/objects/ac/9da9747fb461931ac932b91a29304193b222d2",
        "/Users/jklay/PHYS200/.git/objects/ad/284cbb99698935a4661adccc766699b221d549",
        "/Users/jklay/PHYS200/.git/objects/b1/6902ecc3c3fb8c8e56429b7eebfbabfbf1b8e3",
        "/Users/jklay/PHYS200/.git/objects/b1/78743f1a4c60ad5ad9c752f156231c95b938db",
        "/Users/jklay/PHYS200/.git/objects/b2/cca0d55b4652419f2095fc0be6d3ebabd13f28",
        "/Users/jklay/PHYS200/.git/objects/b4/5d943fadedab33fed89c33f29b66d297d2c128",
        "/Users/jklay/PHYS200/.git/objects/b8/133807b6182ed6af65cc06866ccf35d2b5dd6d",
        "/Users/jklay/PHYS200/.git/objects/bb/b93df5891b357c0cb2d73b3fca47a8cda0f75a",
        "/Users/jklay/PHYS200/.git/objects/be/5404770a2004dbaf857ce5258a35664d4387bb",
        "/Users/jklay/PHYS200/.git/objects/be/994dd747df0ebe78adc1082c19855ae25f9041",
        "/Users/jklay/PHYS200/.git/objects/c0/d5e397e33a65caa9b9ef7b55fc3d245c870c8b",
        "/Users/jklay/PHYS200/.git/objects/c0/e7a43f3caab4bb8e4fdf903e994dace2c4e6c0",
        "/Users/jklay/PHYS200/.git/objects/c5/c638d99f767e609a584154a707a69263db1598",
        "/Users/jklay/PHYS200/.git/objects/c6/ec68857d776c8bef7e816010f0f9732d2925a4",
        "/Users/jklay/PHYS200/.git/objects/cc/3f63718ae5bd30e183300de87957a328ba77c8",
        "/Users/jklay/PHYS200/.git/objects/cf/14fca227f44e78edfffd81658332d53c9439ed",
        "/Users/jklay/PHYS200/.git/objects/cf/16f516c10a5e5803f41fe9318308afd45effff",
        "/Users/jklay/PHYS200/.git/objects/d0/5c9416bb973598d594bf661f4fc1a068f7b12f",
        "/Users/jklay/PHYS200/.git/objects/d0/8dde45cf23a6d1e07a097f7d7b6df80fae732c"
       ]
      },
      {
       "output_type": "stream",
       "stream": "stdout",
       "text": [
        "",
        "/Users/jklay/PHYS200/.git/objects/d0/e130931b80b12ec6fc44f91522c5db8dd22d3b",
        "/Users/jklay/PHYS200/.git/objects/d1/24d97eb20106b31191b321f2f05ac04f3579c3",
        "/Users/jklay/PHYS200/.git/objects/d1/393b04cb86317e021a67540f8757137302ebd4",
        "/Users/jklay/PHYS200/.git/objects/d3/18b7fc5af7803767faf910091a9b197df8ca6d",
        "/Users/jklay/PHYS200/.git/objects/d7/3b29e4c15a13377c836888dd48c11bdf6ae579",
        "/Users/jklay/PHYS200/.git/objects/d9/7cdbe1b1a2a8fdf3b72e67627abbe11028e3d1",
        "/Users/jklay/PHYS200/.git/objects/da/f7b2f478250215d89efba1cceac4c747055c35",
        "/Users/jklay/PHYS200/.git/objects/da/fa0d0d4cadbdc4222f0b17f4330a237293db33",
        "/Users/jklay/PHYS200/.git/objects/dc/590f848b07cc228eddfd7377c0edfdfd1a5195",
        "/Users/jklay/PHYS200/.git/objects/dc/e4eb3e9135321f04c224ecda2208f038c2154f",
        "/Users/jklay/PHYS200/.git/objects/dd/6973e68f1c94dccd9ce625c3b1bb827eb6fa82",
        "/Users/jklay/PHYS200/.git/objects/e0/4b15f48b0ba3c8477d009e16b7275ce8a89e4a",
        "/Users/jklay/PHYS200/.git/objects/e0/7581c1011f37d149766cd49eb4649670f2e050",
        "/Users/jklay/PHYS200/.git/objects/e1/e785ff9eba57336eb2470ea2dc55e5c80a0b11",
        "/Users/jklay/PHYS200/.git/objects/e3/5ac32a3d6288679f106ca88e15114a08dd2396",
        "/Users/jklay/PHYS200/.git/objects/e5/2042122255175a000a32844689250feab899bc",
        "/Users/jklay/PHYS200/.git/objects/e5/aaf051886a93e9de3807aa6ab1c8eb272b7d9d",
        "/Users/jklay/PHYS200/.git/objects/e6/9de29bb2d1d6434b8b29ae775ad8c2e48c5391",
        "/Users/jklay/PHYS200/.git/objects/e8/3e128d6e00a4a62ef933a1437eb4ababffe164",
        "/Users/jklay/PHYS200/.git/objects/e8/af91e85c113e43797d50673e65f69b1341883a",
        "/Users/jklay/PHYS200/.git/objects/e8/bd509cb67c4723a632c64c5b48bcf131bf3f5d",
        "/Users/jklay/PHYS200/.git/objects/e8/d986e02a54ce0db069e1dfbe447e54c861aaaf",
        "/Users/jklay/PHYS200/.git/objects/e9/c4e58bf8b37362174305e82b7cdae713a3846b",
        "/Users/jklay/PHYS200/.git/objects/ea/51c32ea57f06efa2a6f9d3492eba5e7effc323",
        "/Users/jklay/PHYS200/.git/objects/ea/983d79f7bc103ac20af74291ff1076e0e7d72e",
        "/Users/jklay/PHYS200/.git/objects/eb/d89479d09d8358686e84c69ea206ac7b7b1878",
        "/Users/jklay/PHYS200/.git/objects/ed/4a768edf46ef194179e706ea618e090b872be8",
        "/Users/jklay/PHYS200/.git/objects/ed/b6fa1d98da2a50b1932d86e036e1bc11fbeb8b",
        "/Users/jklay/PHYS200/.git/objects/ee/6e3c446e765596c323c5253d0f2f0159ba9fab",
        "/Users/jklay/PHYS200/.git/objects/ef/458c49a347525fe45f55e822a04e3f30daec83",
        "/Users/jklay/PHYS200/.git/objects/ef/852a25b81afb522eb30c00f76673a7fe327d71"
       ]
      },
      {
       "output_type": "stream",
       "stream": "stdout",
       "text": [
        "/Users/jklay/PHYS200/.git/objects/ef/c6fbb79cd1666f9934e6060dda348ff2794ad0",
        "/Users/jklay/PHYS200/.git/objects/f3/4cd9bb184a173e9304ecb5fbb4cf0d6e8f17e7",
        "/Users/jklay/PHYS200/.git/objects/f5/33c7c913e0fd63646e28c6906ad943c69e99b7",
        "/Users/jklay/PHYS200/.git/objects/f6/6b86ca6dec60a7a07bdb2054aac796dbfa2ba8",
        "/Users/jklay/PHYS200/.git/objects/f7/c1642b51555610551a8c7ffdfc57b3c2aaf32e",
        "/Users/jklay/PHYS200/.git/objects/f8/3fcf4c917eb73184a760f6754d4d3e46d95db5",
        "/Users/jklay/PHYS200/.git/objects/f8/e74cfbd792e569595fa95b11514bb1e272bf0d",
        "/Users/jklay/PHYS200/.git/refs/heads/master",
        "/Users/jklay/PHYS200/.git/refs/remotes/origin/master",
        "/Users/jklay/PHYS200/animate_decay.py",
        "/Users/jklay/PHYS200/Ch2-Ex2.py",
        "/Users/jklay/PHYS200/Ch4.3-Ex1.py",
        "/Users/jklay/PHYS200/Ch4.3-Ex2.py",
        "/Users/jklay/PHYS200/Ch4.3-Ex3.py",
        "/Users/jklay/PHYS200/Ch4.3-Ex4.py",
        "/Users/jklay/PHYS200/Ch4.3-Ex5.py",
        "/Users/jklay/PHYS200/Ch5-Ex5.3.py",
        "/Users/jklay/PHYS200/Ch5-Ex5.4.1.py",
        "/Users/jklay/PHYS200/Ch5-Ex5.4.2.py",
        "/Users/jklay/PHYS200/Ch7-Ex7.4.py",
        "/Users/jklay/PHYS200/Chapter1.ipynb",
        "/Users/jklay/PHYS200/Chapter10.ipynb",
        "/Users/jklay/PHYS200/Chapter11.ipynb",
        "/Users/jklay/PHYS200/Chapter12.ipynb",
        "/Users/jklay/PHYS200/Chapter13.ipynb",
        "/Users/jklay/PHYS200/Chapter2.ipynb",
        "/Users/jklay/PHYS200/Chapter3.ipynb",
        "/Users/jklay/PHYS200/Chapter5.ipynb",
        "/Users/jklay/PHYS200/Chapter6.ipynb",
        "/Users/jklay/PHYS200/Chapter7.ipynb",
        "/Users/jklay/PHYS200/Chapter8.ipynb",
        "/Users/jklay/PHYS200/Chapter9.ipynb",
        "/Users/jklay/PHYS200/HuckFinn.txt",
        "/Users/jklay/PHYS200/IntroNumPy.ipynb",
        "/Users/jklay/PHYS200/is_triangle.py",
        "/Users/jklay/PHYS200/MyFirstNotebook.ipynb",
        "/Users/jklay/PHYS200/polygon.py",
        "/Users/jklay/PHYS200/PrincessOfMars.txt",
        "/Users/jklay/PHYS200/PRL_Copyright_Transfer.txt",
        "/Users/jklay/PHYS200/README",
        "/Users/jklay/PHYS200/Untitled0.ipynb"
       ]
      }
     ],
     "prompt_number": 7
    },
    {
     "cell_type": "plaintext",
     "source": [
      "Exercise 14.1 Modify walk so that instead of printing the names of the files, it returns a list of",
      "names."
     ]
    },
    {
     "cell_type": "code",
     "collapsed": true,
     "input": [
      "def walk(dir):",
      "    files = []",
      "    for name in os.listdir(dir):",
      "        path = os.path.join(dir, name)",
      "        if os.path.isfile(path): ",
      "            files.append(path)",
      "        else: walk(path)",
      "    return files"
     ],
     "language": "python",
     "outputs": [],
     "prompt_number": 9
    },
    {
     "cell_type": "code",
     "collapsed": true,
     "input": [
      "myfiles = walk(os.getcwd())"
     ],
     "language": "python",
     "outputs": [],
     "prompt_number": 10
    },
    {
     "cell_type": "code",
     "collapsed": false,
     "input": [
      "print myfiles"
     ],
     "language": "python",
     "outputs": [
      {
       "output_type": "stream",
       "stream": "stdout",
       "text": [
        "['/Users/jklay/PHYS200/animate_decay.py', '/Users/jklay/PHYS200/Ch2-Ex2.py', '/Users/jklay/PHYS200/Ch4.3-Ex1.py', '/Users/jklay/PHYS200/Ch4.3-Ex2.py', '/Users/jklay/PHYS200/Ch4.3-Ex3.py', '/Users/jklay/PHYS200/Ch4.3-Ex4.py', '/Users/jklay/PHYS200/Ch4.3-Ex5.py', '/Users/jklay/PHYS200/Ch5-Ex5.3.py', '/Users/jklay/PHYS200/Ch5-Ex5.4.1.py', '/Users/jklay/PHYS200/Ch5-Ex5.4.2.py', '/Users/jklay/PHYS200/Ch7-Ex7.4.py', '/Users/jklay/PHYS200/Chapter1.ipynb', '/Users/jklay/PHYS200/Chapter10.ipynb', '/Users/jklay/PHYS200/Chapter11.ipynb', '/Users/jklay/PHYS200/Chapter12.ipynb', '/Users/jklay/PHYS200/Chapter13.ipynb', '/Users/jklay/PHYS200/Chapter2.ipynb', '/Users/jklay/PHYS200/Chapter3.ipynb', '/Users/jklay/PHYS200/Chapter5.ipynb', '/Users/jklay/PHYS200/Chapter6.ipynb', '/Users/jklay/PHYS200/Chapter7.ipynb', '/Users/jklay/PHYS200/Chapter8.ipynb', '/Users/jklay/PHYS200/Chapter9.ipynb', '/Users/jklay/PHYS200/HuckFinn.txt', '/Users/jklay/PHYS200/IntroNumPy.ipynb', '/Users/jklay/PHYS200/is_triangle.py', '/Users/jklay/PHYS200/MyFirstNotebook.ipynb', '/Users/jklay/PHYS200/polygon.py', '/Users/jklay/PHYS200/PrincessOfMars.txt', '/Users/jklay/PHYS200/PRL_Copyright_Transfer.txt', '/Users/jklay/PHYS200/README', '/Users/jklay/PHYS200/Untitled0.ipynb']"
       ]
      }
     ],
     "prompt_number": 11
    },
    {
     "cell_type": "plaintext",
     "source": [
      "Exercise 14.2 The os module provides a function called walk that is similar to this one but more versatile. Read the documentation and use it to print the names of the files in a given directory and its subdirectories."
     ]
    },
    {
     "cell_type": "code",
     "collapsed": false,
     "input": [
      "for root, dirs, files in os.walk(os.getcwd()):",
      "    for name in files:",
      "        print os.path.join(root, name)"
     ],
     "language": "python",
     "outputs": [
      {
       "output_type": "stream",
       "stream": "stdout",
       "text": [
        "/Users/jklay/PHYS200/animate_decay.py",
        "/Users/jklay/PHYS200/Ch2-Ex2.py",
        "/Users/jklay/PHYS200/Ch4.3-Ex1.py",
        "/Users/jklay/PHYS200/Ch4.3-Ex2.py",
        "/Users/jklay/PHYS200/Ch4.3-Ex3.py",
        "/Users/jklay/PHYS200/Ch4.3-Ex4.py",
        "/Users/jklay/PHYS200/Ch4.3-Ex5.py",
        "/Users/jklay/PHYS200/Ch5-Ex5.3.py",
        "/Users/jklay/PHYS200/Ch5-Ex5.4.1.py",
        "/Users/jklay/PHYS200/Ch5-Ex5.4.2.py",
        "/Users/jklay/PHYS200/Ch7-Ex7.4.py",
        "/Users/jklay/PHYS200/Chapter1.ipynb",
        "/Users/jklay/PHYS200/Chapter10.ipynb",
        "/Users/jklay/PHYS200/Chapter11.ipynb",
        "/Users/jklay/PHYS200/Chapter12.ipynb",
        "/Users/jklay/PHYS200/Chapter13.ipynb",
        "/Users/jklay/PHYS200/Chapter14.ipynb",
        "/Users/jklay/PHYS200/Chapter2.ipynb",
        "/Users/jklay/PHYS200/Chapter3.ipynb",
        "/Users/jklay/PHYS200/Chapter5.ipynb",
        "/Users/jklay/PHYS200/Chapter6.ipynb",
        "/Users/jklay/PHYS200/Chapter7.ipynb",
        "/Users/jklay/PHYS200/Chapter8.ipynb",
        "/Users/jklay/PHYS200/Chapter9.ipynb",
        "/Users/jklay/PHYS200/HuckFinn.txt",
        "/Users/jklay/PHYS200/IntroNumPy.ipynb",
        "/Users/jklay/PHYS200/is_triangle.py",
        "/Users/jklay/PHYS200/MyFirstNotebook.ipynb",
        "/Users/jklay/PHYS200/polygon.py",
        "/Users/jklay/PHYS200/PrincessOfMars.txt",
        "/Users/jklay/PHYS200/PRL_Copyright_Transfer.txt",
        "/Users/jklay/PHYS200/README",
        "/Users/jklay/PHYS200/.git/COMMIT_EDITMSG",
        "/Users/jklay/PHYS200/.git/config",
        "/Users/jklay/PHYS200/.git/description",
        "/Users/jklay/PHYS200/.git/HEAD",
        "/Users/jklay/PHYS200/.git/index",
        "/Users/jklay/PHYS200/.git/hooks/applypatch-msg.sample",
        "/Users/jklay/PHYS200/.git/hooks/commit-msg.sample",
        "/Users/jklay/PHYS200/.git/hooks/post-commit.sample",
        "/Users/jklay/PHYS200/.git/hooks/post-receive.sample",
        "/Users/jklay/PHYS200/.git/hooks/post-update.sample",
        "/Users/jklay/PHYS200/.git/hooks/pre-applypatch.sample",
        "/Users/jklay/PHYS200/.git/hooks/pre-commit.sample",
        "/Users/jklay/PHYS200/.git/hooks/pre-rebase.sample",
        "/Users/jklay/PHYS200/.git/hooks/prepare-commit-msg.sample",
        "/Users/jklay/PHYS200/.git/hooks/update.sample",
        "/Users/jklay/PHYS200/.git/info/exclude",
        "/Users/jklay/PHYS200/.git/logs/HEAD",
        "/Users/jklay/PHYS200/.git/logs/refs/heads/master",
        "/Users/jklay/PHYS200/.git/logs/refs/remotes/origin/master",
        "/Users/jklay/PHYS200/.git/objects/00/5baf13170e0be115d1d268f78ae2553d75492c",
        "/Users/jklay/PHYS200/.git/objects/00/be0d02da1dfc28a5dfb2f6f66e610143e83a61",
        "/Users/jklay/PHYS200/.git/objects/00/f3249ec41dc990310dbea2b1d69ee78492f529",
        "/Users/jklay/PHYS200/.git/objects/03/6d0b5d85878fae73c63711ec44432bcd7d83e3",
        "/Users/jklay/PHYS200/.git/objects/04/12084257bdb4c9ab88b63fa1fc6ae4029f62eb",
        "/Users/jklay/PHYS200/.git/objects/08/a40a9acba79f5b8a1cef78ec63af2f38b08192",
        "/Users/jklay/PHYS200/.git/objects/09/863733ab247e1f3310ef698f5b4bf9b1fa6148",
        "/Users/jklay/PHYS200/.git/objects/0b/d85eb112eddb5684954c06ab59c500bde7e34f",
        "/Users/jklay/PHYS200/.git/objects/0e/4e00a5a015607dd2c963c95e9dcf8c6bafeefb",
        "/Users/jklay/PHYS200/.git/objects/0f/8503cce55d85875d5000881ab68b84116c8430",
        "/Users/jklay/PHYS200/.git/objects/0f/94450744c53f472ec73435c50157c37f6abab3",
        "/Users/jklay/PHYS200/.git/objects/0f/c3ddf193b57aac5bc16fc5c3ae150d81fb78e2",
        "/Users/jklay/PHYS200/.git/objects/10/3f5234f5cc246382ad03e991885230a7184679",
        "/Users/jklay/PHYS200/.git/objects/10/8fd1051c667fd7aafd955b7e7b88237b5777b1",
        "/Users/jklay/PHYS200/.git/objects/11/f780c52d400ec7fe96eecc582602c11b13ef5f",
        "/Users/jklay/PHYS200/.git/objects/13/49afd5e57e72f0ffc819280de892f754d2abd3",
        "/Users/jklay/PHYS200/.git/objects/14/0d3f94262f454510a3efaa1609c2a76a964acd",
        "/Users/jklay/PHYS200/.git/objects/16/9f00f4865c1403b58acd5740f72b6e253c6e0b",
        "/Users/jklay/PHYS200/.git/objects/17/d61b0aa82512595f4daf2b09f7115a765e6ba6",
        "/Users/jklay/PHYS200/.git/objects/17/ece27ce2a9e6b40a26985eb303c3393de7429d",
        "/Users/jklay/PHYS200/.git/objects/18/a70c0391653de60f1c8bd7b19fbe855d72801d",
        "/Users/jklay/PHYS200/.git/objects/18/edcc1cb052aec2db9af60b08b1d00c755bc279",
        "/Users/jklay/PHYS200/.git/objects/19/3e6db97a739c68a275dece0afb2d7406dcd53e",
        "/Users/jklay/PHYS200/.git/objects/19/613b7e32e962cf1b8ae5bad43b4fb771f0c414",
        "/Users/jklay/PHYS200/.git/objects/1c/622505292fd2aa6c7ac47a41dea9cc2885a3ce",
        "/Users/jklay/PHYS200/.git/objects/1c/7aa9bc8f01cc9c4609127338ea1d09f8ff60c5",
        "/Users/jklay/PHYS200/.git/objects/1d/17b376e1e064d6de5683cdd0df0118cb83df5b",
        "/Users/jklay/PHYS200/.git/objects/1f/c220bef9cdaf5481027dee76b8cba402f5739b",
        "/Users/jklay/PHYS200/.git/objects/22/99e761b407d0c10e36f996a5756e6664481ec9",
        "/Users/jklay/PHYS200/.git/objects/23/6ebcb3020ebd7685420f785b4c54c25786f11c",
        "/Users/jklay/PHYS200/.git/objects/24/bea4f33ef22ece5a794d6658d28f300031cfb6",
        "/Users/jklay/PHYS200/.git/objects/24/fc9d0eaefca5fd4280a31816d1380b12f84a90",
        "/Users/jklay/PHYS200/.git/objects/25/fc51767e1936d087427cfb3749d4d597aa428f",
        "/Users/jklay/PHYS200/.git/objects/27/eab6cfdbe7450a8778a77272b9fd5db147ad82",
        "/Users/jklay/PHYS200/.git/objects/28/646bb63c592edd270a88f6ccce3419703aea25",
        "/Users/jklay/PHYS200/.git/objects/2c/5ff9d97dde91eb1d81bbae0117907c0c24fb69",
        "/Users/jklay/PHYS200/.git/objects/2c/dfda1da3d7c226bad96c6492827a2ac33eba18",
        "/Users/jklay/PHYS200/.git/objects/2d/90d78043aea931c25377e3771f10f5073c8f9a",
        "/Users/jklay/PHYS200/.git/objects/2e/0b2ae13e22b8422d72c4b24300911808286523",
        "/Users/jklay/PHYS200/.git/objects/2f/1ab66327d9eec1125d7399d8e90206a668b162",
        "/Users/jklay/PHYS200/.git/objects/2f/679a0860cefe426743f2d8b43380f6f3579204",
        "/Users/jklay/PHYS200/.git/objects/32/a207bb5196ed10f7c8620ce7299b6ccf919bc0",
        "/Users/jklay/PHYS200/.git/objects/34/346eb7d5c677a882f6c3956dad04cd4542f2c5",
        "/Users/jklay/PHYS200/.git/objects/34/7256d602f299397e852bc706fdb8862e10601c",
        "/Users/jklay/PHYS200/.git/objects/34/b40ff0fb41b6218579aadfa887a3052d6cefa7",
        "/Users/jklay/PHYS200/.git/objects/34/c20fa00da3f28e8dd69ae04cff50bfab64ab38",
        "/Users/jklay/PHYS200/.git/objects/34/de4effabebf0a1676f8ade130e8ce4ce0f090a",
        "/Users/jklay/PHYS200/.git/objects/35/0dee9521e13251d04675f337385e8506697c01",
        "/Users/jklay/PHYS200/.git/objects/35/4b7146e5e102f1e0008c2ccc01a78489873118",
        "/Users/jklay/PHYS200/.git/objects/36/8412fa149ae174333e69f6146023739eae1f2c",
        "/Users/jklay/PHYS200/.git/objects/38/2c3f84f33b40a569466dae404d0fa85912a1dd",
        "/Users/jklay/PHYS200/.git/objects/38/382272000e4d27d9fd5af56949e00881f71a88",
        "/Users/jklay/PHYS200/.git/objects/40/98bda956b3bc6db975ed46df5bea2690b6b08b",
        "/Users/jklay/PHYS200/.git/objects/42/4955244b5e6009e71f02abae3b6a9be99993b0",
        "/Users/jklay/PHYS200/.git/objects/43/e1932f087932673994ab231ab79cd86216c4be",
        "/Users/jklay/PHYS200/.git/objects/44/7c1076e6a0400eebf998a787e21219165bac3a",
        "/Users/jklay/PHYS200/.git/objects/45/378367563a15b1526dc9468f5bb04560357a10",
        "/Users/jklay/PHYS200/.git/objects/45/6b634edf4e280013a27d2ce92a6ab2ee28911a",
        "/Users/jklay/PHYS200/.git/objects/45/b661cd686f85119119434a5e71976a8972011e",
        "/Users/jklay/PHYS200/.git/objects/49/63e9e100b227a53c48c8c9cc1873d185b14259",
        "/Users/jklay/PHYS200/.git/objects/4a/26c3ba7e2ab4013bddd200efe86711df4acad7",
        "/Users/jklay/PHYS200/.git/objects/4b/0cb6c47c644e7eb0fb4e6ea1a6f1726f460851",
        "/Users/jklay/PHYS200/.git/objects/4b/ebfa9d56f4a167735ca3d6f94e3c128f59d714",
        "/Users/jklay/PHYS200/.git/objects/4c/e5039f979de896c7a93ac4ce4355b39f92362b",
        "/Users/jklay/PHYS200/.git/objects/4d/ebbf2845f4993f7299062a950cbd06a3f6be87",
        "/Users/jklay/PHYS200/.git/objects/4e/11092a8aacae5ca4f683b20842a09556fd83c6",
        "/Users/jklay/PHYS200/.git/objects/51/d25c78d902f6ec2ad57e5c7bcc003cea391d8e",
        "/Users/jklay/PHYS200/.git/objects/52/bd9caaa086c5515d1ee5483677f7d0d2a11d7b",
        "/Users/jklay/PHYS200/.git/objects/53/584bb7af161900eb1180d9bc158963b78a9184",
        "/Users/jklay/PHYS200/.git/objects/54/3b9bebdc6bd5c4b22136034a95dd097a57d3dd",
        "/Users/jklay/PHYS200/.git/objects/57/05dd3128cc54d8ae48d280e6e1b4e02e62876a",
        "/Users/jklay/PHYS200/.git/objects/59/8a23e8167e7c7df4a4b0053b7dd50f740b5105",
        "/Users/jklay/PHYS200/.git/objects/5a/1a95d42e8da92a765e0d294689e191f976fc36",
        "/Users/jklay/PHYS200/.git/objects/5a/4463853e9b096d3bf9677fa4b8fbd37e456ba5",
        "/Users/jklay/PHYS200/.git/objects/5b/68700a0a1fdba5ef15c4f47a0c0edee608b248",
        "/Users/jklay/PHYS200/.git/objects/5b/7340a70a032b6fbdd4c30f2352fc4df69009e0",
        "/Users/jklay/PHYS200/.git/objects/5e/80cf34b75d7106295a30371d9c05b953d82987",
        "/Users/jklay/PHYS200/.git/objects/5e/8d9ba2dfd77259c0dcd694d9a51dd3fb8a95bf",
        "/Users/jklay/PHYS200/.git/objects/5f/36038b3ccb77a6d307492c05ab1b2e147c52cf",
        "/Users/jklay/PHYS200/.git/objects/62/47c776a33de4f12fa86117ea12f7584ec3d4fc",
        "/Users/jklay/PHYS200/.git/objects/64/cd7dbf1ce62adba9ce170d4b174e942f96b90f",
        "/Users/jklay/PHYS200/.git/objects/67/8296ab95387483090c4b2b39a51d18a396518f",
        "/Users/jklay/PHYS200/.git/objects/67/ef598d990610a38111231077c818bdea3f3c68",
        "/Users/jklay/PHYS200/.git/objects/69/ad25d1137cc1b84ed73d6774a3eaea83cee6cf",
        "/Users/jklay/PHYS200/.git/objects/6b/b7ead5fc8dc807235c98735e437a5522676077",
        "/Users/jklay/PHYS200/.git/objects/6c/3228189b73adf0d41beb4fa85187775e96da22",
        "/Users/jklay/PHYS200/.git/objects/6e/60064b21b1e5390fef229512832c13c03b3842",
        "/Users/jklay/PHYS200/.git/objects/72/1e075fa82bfa97f7ffb340c1851d22f3d37804",
        "/Users/jklay/PHYS200/.git/objects/74/3c24b2a918267dcc50398ffd78bb5123370471",
        "/Users/jklay/PHYS200/.git/objects/77/d8531631468df8da6a4db22410aabba2d9b35b",
        "/Users/jklay/PHYS200/.git/objects/78/4b312deb6241ebf9c7f545f7c38a850c480bf5",
        "/Users/jklay/PHYS200/.git/objects/78/7f20ce771cf8fcf0adf8fb334aeb3374856657",
        "/Users/jklay/PHYS200/.git/objects/7a/8c636421756159287eb532a0f356ea1f4daef5",
        "/Users/jklay/PHYS200/.git/objects/7d/10d3a73ecdc39e9a1ce8cacb733053c2087349",
        "/Users/jklay/PHYS200/.git/objects/7e/2a4d28b3a461debe2b956f788e6357e6eb8085",
        "/Users/jklay/PHYS200/.git/objects/7e/36611d8e08449c1a62005538408e9b8708aae1",
        "/Users/jklay/PHYS200/.git/objects/7e/a8cf44c201d3ba2cb3f0a17e9ef144d633d2d6",
        "/Users/jklay/PHYS200/.git/objects/7f/6d7215e11a719f01b4c16e4e254a759f678bac",
        "/Users/jklay/PHYS200/.git/objects/82/01af57096c818dba458f07e577b41cf1985b07",
        "/Users/jklay/PHYS200/.git/objects/82/738c0ddc738c5ebad68166ff12b2954683015a",
        "/Users/jklay/PHYS200/.git/objects/88/d679b919572682d59729b20e203237b93548bd",
        "/Users/jklay/PHYS200/.git/objects/8a/19551159e83f6480c78153c6dd75e5988443fc",
        "/Users/jklay/PHYS200/.git/objects/8a/262c98311a3abd48065ad063b5ccfd694b1f85",
        "/Users/jklay/PHYS200/.git/objects/8a/c262706a149b95d2a57f5ac6ddd2a316bf01ad",
        "/Users/jklay/PHYS200/.git/objects/8b/9b629133dfac746b0c72584b3ea1765ea25452",
        "/Users/jklay/PHYS200/.git/objects/8b/a23a58685bdb1ddc2ddab9bf2c9baec97f4121",
        "/Users/jklay/PHYS200/.git/objects/8b/df552704508109d2e33fbe7416353c4438957a",
        "/Users/jklay/PHYS200/.git/objects/8c/94992195dd865d21301f38c2b25db25739b61e",
        "/Users/jklay/PHYS200/.git/objects/8d/686304545cdac612bb25309960c8faa290e3a6",
        "/Users/jklay/PHYS200/.git/objects/8d/797e02698f2ffc3521ab2d476c36d2f6920fd3",
        "/Users/jklay/PHYS200/.git/objects/8e/55d81c2baa0e3c22bf1af88f938da77f22af83",
        "/Users/jklay/PHYS200/.git/objects/8f/21c167d676b04e716fa5b260891bae91983bfa",
        "/Users/jklay/PHYS200/.git/objects/8f/9a93d882e29bce13564c7fa7d9964fac1c9ac9",
        "/Users/jklay/PHYS200/.git/objects/92/200047db0273dc2026dadda16d753ec8e64c6b",
        "/Users/jklay/PHYS200/.git/objects/97/2f90498c190bbb5daf49e8d73ca44369290589",
        "/Users/jklay/PHYS200/.git/objects/99/a5623d985093ec1bdf34cb7096cfaa8738e239",
        "/Users/jklay/PHYS200/.git/objects/9b/4e23f5b78e917d5f612e4507222fcc81e529c0",
        "/Users/jklay/PHYS200/.git/objects/9e/1758d3cb818cfea2ce2e20d4ca71b72dc71a93",
        "/Users/jklay/PHYS200/.git/objects/9e/8586090d90c774e96505c7190b3eddbb6be20c",
        "/Users/jklay/PHYS200/.git/objects/9f/ad12d532aac96e86aa067d2f59a32d3bb74434",
        "/Users/jklay/PHYS200/.git/objects/a2/1e9e332a4b8bbebc19723914d71a139b37396b",
        "/Users/jklay/PHYS200/.git/objects/a2/a284d033d8cd01d494885df045654f22348e9a",
        "/Users/jklay/PHYS200/.git/objects/a3/6bcf6b5cf1a176906cb7bc1d323a69bbaf12ba",
        "/Users/jklay/PHYS200/.git/objects/a3/71d6bf854c3ea32dd270d5f936d5c5f4c9b16a",
        "/Users/jklay/PHYS200/.git/objects/a4/14d375c426ef9875295fe12761d174d67334ef",
        "/Users/jklay/PHYS200/.git/objects/a5/591ceb676bdb026554ed334b57b5bd83ec3181",
        "/Users/jklay/PHYS200/.git/objects/a9/9771e6eae022d211004d9d9f4a5765965d83bf",
        "/Users/jklay/PHYS200/.git/objects/a9/d40e51f12efa39134be7b86b3b02478c385936",
        "/Users/jklay/PHYS200/.git/objects/ab/bcba7945c40a9fc877cf29945b1537fb682a8e",
        "/Users/jklay/PHYS200/.git/objects/ab/fdb29026d15c3d0281ad89ce4be5560a56f375",
        "/Users/jklay/PHYS200/.git/objects/ac/160c3ca2a548c09e4dc8819da21f297f3dccc3",
        "/Users/jklay/PHYS200/.git/objects/ac/9da9747fb461931ac932b91a29304193b222d2",
        "/Users/jklay/PHYS200/.git/objects/ad/284cbb99698935a4661adccc766699b221d549",
        "/Users/jklay/PHYS200/.git/objects/b1/6902ecc3c3fb8c8e56429b7eebfbabfbf1b8e3",
        "/Users/jklay/PHYS200/.git/objects/b1/78743f1a4c60ad5ad9c752f156231c95b938db",
        "/Users/jklay/PHYS200/.git/objects/b2/cca0d55b4652419f2095fc0be6d3ebabd13f28",
        "/Users/jklay/PHYS200/.git/objects/b4/5d943fadedab33fed89c33f29b66d297d2c128",
        "/Users/jklay/PHYS200/.git/objects/b8/133807b6182ed6af65cc06866ccf35d2b5dd6d",
        "/Users/jklay/PHYS200/.git/objects/bb/b93df5891b357c0cb2d73b3fca47a8cda0f75a",
        "/Users/jklay/PHYS200/.git/objects/be/5404770a2004dbaf857ce5258a35664d4387bb",
        "/Users/jklay/PHYS200/.git/objects/be/994dd747df0ebe78adc1082c19855ae25f9041",
        "/Users/jklay/PHYS200/.git/objects/c0/d5e397e33a65caa9b9ef7b55fc3d245c870c8b",
        "/Users/jklay/PHYS200/.git/objects/c0/e7a43f3caab4bb8e4fdf903e994dace2c4e6c0",
        "/Users/jklay/PHYS200/.git/objects/c5/c638d99f767e609a584154a707a69263db1598",
        "/Users/jklay/PHYS200/.git/objects/c6/ec68857d776c8bef7e816010f0f9732d2925a4",
        "/Users/jklay/PHYS200/.git/objects/cc/3f63718ae5bd30e183300de87957a328ba77c8",
        "/Users/jklay/PHYS200/.git/objects/cf/14fca227f44e78edfffd81658332d53c9439ed",
        "/Users/jklay/PHYS200/.git/objects/cf/16f516c10a5e5803f41fe9318308afd45effff",
        "/Users/jklay/PHYS200/.git/objects/d0/5c9416bb973598d594bf661f4fc1a068f7b12f",
        "/Users/jklay/PHYS200/.git/objects/d0/8dde45cf23a6d1e07a097f7d7b6df80fae732c",
        "/Users/jklay/PHYS200/.git/objects/d0/e130931b80b12ec6fc44f91522c5db8dd22d3b",
        "/Users/jklay/PHYS200/.git/objects/d1/24d97eb20106b31191b321f2f05ac04f3579c3",
        "/Users/jklay/PHYS200/.git/objects/d1/393b04cb86317e021a67540f8757137302ebd4",
        "/Users/jklay/PHYS200/.git/objects/d3/18b7fc5af7803767faf910091a9b197df8ca6d",
        "/Users/jklay/PHYS200/.git/objects/d7/3b29e4c15a13377c836888dd48c11bdf6ae579",
        "/Users/jklay/PHYS200/.git/objects/d9/7cdbe1b1a2a8fdf3b72e67627abbe11028e3d1",
        "/Users/jklay/PHYS200/.git/objects/da/f7b2f478250215d89efba1cceac4c747055c35",
        "/Users/jklay/PHYS200/.git/objects/da/fa0d0d4cadbdc4222f0b17f4330a237293db33",
        "/Users/jklay/PHYS200/.git/objects/dc/590f848b07cc228eddfd7377c0edfdfd1a5195",
        "/Users/jklay/PHYS200/.git/objects/dc/e4eb3e9135321f04c224ecda2208f038c2154f",
        "/Users/jklay/PHYS200/.git/objects/dd/6973e68f1c94dccd9ce625c3b1bb827eb6fa82",
        "/Users/jklay/PHYS200/.git/objects/e0/4b15f48b0ba3c8477d009e16b7275ce8a89e4a",
        "/Users/jklay/PHYS200/.git/objects/e0/7581c1011f37d149766cd49eb4649670f2e050",
        "/Users/jklay/PHYS200/.git/objects/e1/e785ff9eba57336eb2470ea2dc55e5c80a0b11",
        "/Users/jklay/PHYS200/.git/objects/e3/5ac32a3d6288679f106ca88e15114a08dd2396",
        "/Users/jklay/PHYS200/.git/objects/e5/2042122255175a000a32844689250feab899bc",
        "/Users/jklay/PHYS200/.git/objects/e5/aaf051886a93e9de3807aa6ab1c8eb272b7d9d",
        "/Users/jklay/PHYS200/.git/objects/e6/9de29bb2d1d6434b8b29ae775ad8c2e48c5391",
        "/Users/jklay/PHYS200/.git/objects/e8/3e128d6e00a4a62ef933a1437eb4ababffe164",
        "/Users/jklay/PHYS200/.git/objects/e8/af91e85c113e43797d50673e65f69b1341883a",
        "/Users/jklay/PHYS200/.git/objects/e8/bd509cb67c4723a632c64c5b48bcf131bf3f5d",
        "/Users/jklay/PHYS200/.git/objects/e8/d986e02a54ce0db069e1dfbe447e54c861aaaf",
        "/Users/jklay/PHYS200/.git/objects/e9/c4e58bf8b37362174305e82b7cdae713a3846b",
        "/Users/jklay/PHYS200/.git/objects/ea/51c32ea57f06efa2a6f9d3492eba5e7effc323",
        "/Users/jklay/PHYS200/.git/objects/ea/983d79f7bc103ac20af74291ff1076e0e7d72e",
        "/Users/jklay/PHYS200/.git/objects/eb/d89479d09d8358686e84c69ea206ac7b7b1878",
        "/Users/jklay/PHYS200/.git/objects/ed/4a768edf46ef194179e706ea618e090b872be8",
        "/Users/jklay/PHYS200/.git/objects/ed/b6fa1d98da2a50b1932d86e036e1bc11fbeb8b",
        "/Users/jklay/PHYS200/.git/objects/ee/6e3c446e765596c323c5253d0f2f0159ba9fab",
        "/Users/jklay/PHYS200/.git/objects/ef/458c49a347525fe45f55e822a04e3f30daec83",
        "/Users/jklay/PHYS200/.git/objects/ef/852a25b81afb522eb30c00f76673a7fe327d71",
        "/Users/jklay/PHYS200/.git/objects/ef/c6fbb79cd1666f9934e6060dda348ff2794ad0",
        "/Users/jklay/PHYS200/.git/objects/f3/4cd9bb184a173e9304ecb5fbb4cf0d6e8f17e7",
        "/Users/jklay/PHYS200/.git/objects/f4/71be1a5d2f34d57198c1224564e5ded720dcb4",
        "/Users/jklay/PHYS200/.git/objects/f5/33c7c913e0fd63646e28c6906ad943c69e99b7",
        "/Users/jklay/PHYS200/.git/objects/f6/6b86ca6dec60a7a07bdb2054aac796dbfa2ba8",
        "/Users/jklay/PHYS200/.git/objects/f7/c1642b51555610551a8c7ffdfc57b3c2aaf32e",
        "/Users/jklay/PHYS200/.git/objects/f8/3fcf4c917eb73184a760f6754d4d3e46d95db5",
        "/Users/jklay/PHYS200/.git/objects/f8/e74cfbd792e569595fa95b11514bb1e272bf0d",
        "/Users/jklay/PHYS200/.git/refs/heads/master",
        "/Users/jklay/PHYS200/.git/refs/remotes/origin/master"
       ]
      }
     ],
     "prompt_number": 16
    },
    {
     "cell_type": "code",
     "collapsed": false,
     "input": [
      "try:",
      "    fin = open('bad_file') ",
      "    for line in fin:",
      "        print line ",
      "    fin.close()",
      "except:",
      "    print 'Something went wrong.'"
     ],
     "language": "python",
     "outputs": [
      {
       "output_type": "stream",
       "stream": "stdout",
       "text": [
        "Something went wrong."
       ]
      }
     ],
     "prompt_number": 19
    },
    {
     "cell_type": "code",
     "collapsed": true,
     "input": [
      "import anydbm"
     ],
     "language": "python",
     "outputs": [],
     "prompt_number": 20
    },
    {
     "cell_type": "code",
     "collapsed": true,
     "input": [
      "db = anydbm.open('captions.db', 'c')"
     ],
     "language": "python",
     "outputs": [],
     "prompt_number": 21
    },
    {
     "cell_type": "code",
     "collapsed": true,
     "input": [
      "db['cleese.png'] = 'Photo of John Cleese.'"
     ],
     "language": "python",
     "outputs": [],
     "prompt_number": 22
    },
    {
     "cell_type": "code",
     "collapsed": false,
     "input": [
      "print db['cleese.png']"
     ],
     "language": "python",
     "outputs": [
      {
       "output_type": "stream",
       "stream": "stdout",
       "text": [
        "Photo of John Cleese."
       ]
      }
     ],
     "prompt_number": 23
    },
    {
     "cell_type": "code",
     "collapsed": true,
     "input": [
      "db['cleese.png'] = 'Photo of John Cleese doing a silly walk.'"
     ],
     "language": "python",
     "outputs": [],
     "prompt_number": 24
    },
    {
     "cell_type": "code",
     "collapsed": false,
     "input": [
      "print db['cleese.png']"
     ],
     "language": "python",
     "outputs": [
      {
       "output_type": "stream",
       "stream": "stdout",
       "text": [
        "Photo of John Cleese doing a silly walk."
       ]
      }
     ],
     "prompt_number": 25
    },
    {
     "cell_type": "code",
     "collapsed": false,
     "input": [
      "for key in db: ",
      "    print key"
     ],
     "language": "python",
     "outputs": [
      {
       "output_type": "stream",
       "stream": "stdout",
       "text": [
        "cleese.png"
       ]
      }
     ],
     "prompt_number": 26
    },
    {
     "cell_type": "code",
     "collapsed": true,
     "input": [
      "db['palin.png'] = 'A fish called Wanda'"
     ],
     "language": "python",
     "outputs": [],
     "prompt_number": 27
    },
    {
     "cell_type": "code",
     "collapsed": false,
     "input": [
      "for key in db: ",
      "    print db[key]"
     ],
     "language": "python",
     "outputs": [
      {
       "output_type": "stream",
       "stream": "stdout",
       "text": [
        "Photo of John Cleese doing a silly walk.",
        "A fish called Wanda"
       ]
      }
     ],
     "prompt_number": 29
    },
    {
     "cell_type": "code",
     "collapsed": false,
     "input": [
      "db.close()"
     ],
     "language": "python",
     "outputs": [],
     "prompt_number": 31
    },
    {
     "cell_type": "code",
     "collapsed": false,
     "input": [
      "os.listdir(os.getcwd())"
     ],
     "language": "python",
     "outputs": [
      {
       "output_type": "pyout",
       "prompt_number": 32,
       "text": [
        "['.git',",
        " 'animate_decay.py',",
        " 'captions.db',",
        " 'Ch2-Ex2.py',",
        " 'Ch4.3-Ex1.py',",
        " 'Ch4.3-Ex2.py',",
        " 'Ch4.3-Ex3.py',",
        " 'Ch4.3-Ex4.py',",
        " 'Ch4.3-Ex5.py',",
        " 'Ch5-Ex5.3.py',",
        " 'Ch5-Ex5.4.1.py',",
        " 'Ch5-Ex5.4.2.py',",
        " 'Ch7-Ex7.4.py',",
        " 'Chapter1.ipynb',",
        " 'Chapter10.ipynb',",
        " 'Chapter11.ipynb',",
        " 'Chapter12.ipynb',",
        " 'Chapter13.ipynb',",
        " 'Chapter14.ipynb',",
        " 'Chapter2.ipynb',",
        " 'Chapter3.ipynb',",
        " 'Chapter5.ipynb',",
        " 'Chapter6.ipynb',",
        " 'Chapter7.ipynb',",
        " 'Chapter8.ipynb',",
        " 'Chapter9.ipynb',",
        " 'HuckFinn.txt',",
        " 'IntroNumPy.ipynb',",
        " 'is_triangle.py',",
        " 'MyFirstNotebook.ipynb',",
        " 'polygon.py',",
        " 'PrincessOfMars.txt',",
        " 'PRL_Copyright_Transfer.txt',",
        " 'README']"
       ]
      }
     ],
     "prompt_number": 32
    },
    {
     "cell_type": "code",
     "collapsed": true,
     "input": [
      "import pickle"
     ],
     "language": "python",
     "outputs": [],
     "prompt_number": 33
    },
    {
     "cell_type": "code",
     "collapsed": false,
     "input": [
      "t = [1, 2, 3]",
      "pickle.dumps(t)"
     ],
     "language": "python",
     "outputs": [
      {
       "output_type": "pyout",
       "prompt_number": 34,
       "text": [
        "'(lp0\\nI1\\naI2\\naI3\\na.'"
       ]
      }
     ],
     "prompt_number": 34
    },
    {
     "cell_type": "code",
     "collapsed": true,
     "input": [
      "s = pickle.dumps(t)"
     ],
     "language": "python",
     "outputs": [],
     "prompt_number": 35
    },
    {
     "cell_type": "code",
     "collapsed": true,
     "input": [
      "t2 = pickle.loads(s)"
     ],
     "language": "python",
     "outputs": [],
     "prompt_number": 36
    },
    {
     "cell_type": "code",
     "collapsed": false,
     "input": [
      "print t2"
     ],
     "language": "python",
     "outputs": [
      {
       "output_type": "stream",
       "stream": "stdout",
       "text": [
        "[1, 2, 3]"
       ]
      }
     ],
     "prompt_number": 37
    },
    {
     "cell_type": "code",
     "collapsed": false,
     "input": [
      "t == t2"
     ],
     "language": "python",
     "outputs": [
      {
       "output_type": "pyout",
       "prompt_number": 38,
       "text": [
        "True"
       ]
      }
     ],
     "prompt_number": 38
    },
    {
     "cell_type": "code",
     "collapsed": false,
     "input": [
      "t is t2"
     ],
     "language": "python",
     "outputs": [
      {
       "output_type": "pyout",
       "prompt_number": 39,
       "text": [
        "False"
       ]
      }
     ],
     "prompt_number": 39
    },
    {
     "cell_type": "plaintext",
     "source": [
      "Exercise 14.3 If you did Exercise 12.4, modify your solution so that it creates a database that maps",
      "from each word in the list to a list of words that use the same set of letters.",
      "",
      "Write a different program that opens the database and prints the contents in a human-readable format."
     ]
    }
   ]
  }
 ]
}