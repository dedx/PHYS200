{
 "metadata": {
  "name": "Chapter7"
 },
 "nbformat": 3,
 "worksheets": [
  {
   "cells": [
    {
     "cell_type": "code",
     "collapsed": true,
     "input": [
      "def countdown(n): ",
      "    while n>0:",
      "        print n",
      "        n=n-1",
      "    print 'Blastoff!'"
     ],
     "language": "python",
     "outputs": [],
     "prompt_number": 1
    },
    {
     "cell_type": "code",
     "collapsed": false,
     "input": [
      "countdown(5)"
     ],
     "language": "python",
     "outputs": [
      {
       "output_type": "stream",
       "stream": "stdout",
       "text": [
        "5",
        "4",
        "3",
        "2",
        "1",
        "Blastoff!"
       ]
      }
     ],
     "prompt_number": 2
    },
    {
     "cell_type": "code",
     "collapsed": true,
     "input": [
      "def sequence(n): ",
      "    while n != 1:",
      "        print n,",
      "        if n%2==0: #n is even",
      "            n=n/2",
      "        else: # n is odd",
      "            n = n*3+1"
     ],
     "language": "python",
     "outputs": [],
     "prompt_number": 3
    },
    {
     "cell_type": "code",
     "collapsed": false,
     "input": [
      "sequence(21)"
     ],
     "language": "python",
     "outputs": [
      {
       "output_type": "stream",
       "stream": "stdout",
       "text": [
        "21 64 32 16 8 4 2"
       ]
      }
     ],
     "prompt_number": 4
    },
    {
     "cell_type": "plaintext",
     "source": [
      "Exercise 7.1 Rewrite the function print_n from Section 5.8 using iteration instead of recursion."
     ]
    },
    {
     "cell_type": "code",
     "collapsed": true,
     "input": [
      "def print_n(s, n): ",
      "    if n <= 0:",
      "        return ",
      "    print s",
      "    print_n(s, n-1)"
     ],
     "language": "python",
     "outputs": [],
     "prompt_number": 5
    },
    {
     "cell_type": "code",
     "collapsed": true,
     "input": [
      "def print_n(s,n):",
      "    while n != 0:",
      "        print s",
      "        n = n-1"
     ],
     "language": "python",
     "outputs": [],
     "prompt_number": 6
    },
    {
     "cell_type": "code",
     "collapsed": false,
     "input": [
      "print_n(\"Sugey Sugey\",10)"
     ],
     "language": "python",
     "outputs": [
      {
       "output_type": "stream",
       "stream": "stdout",
       "text": [
        "Sugey Sugey",
        "Sugey Sugey",
        "Sugey Sugey",
        "Sugey Sugey",
        "Sugey Sugey",
        "Sugey Sugey",
        "Sugey Sugey",
        "Sugey Sugey",
        "Sugey Sugey",
        "Sugey Sugey"
       ]
      }
     ],
     "prompt_number": 7
    },
    {
     "cell_type": "code",
     "collapsed": false,
     "input": [
      "print_n(\"Hehe\",3)"
     ],
     "language": "python",
     "outputs": [
      {
       "output_type": "stream",
       "stream": "stdout",
       "text": [
        "Hehe",
        "Hehe",
        "Hehe"
       ]
      }
     ],
     "prompt_number": 8
    },
    {
     "cell_type": "code",
     "collapsed": true,
     "input": [],
     "language": "python",
     "outputs": []
    },
    {
     "cell_type": "plaintext",
     "source": [
      "Exercise 7.2 Encapsulate this loop in a function called square_root that takes a as a parameter,",
      "chooses a reasonable value of x, and returns an estimate of the square root of a."
     ]
    },
    {
     "cell_type": "code",
     "collapsed": true,
     "input": [
      "def square_root(a):",
      "    x = a",
      "    while True:",
      "        y = (x + a/x)/2",
      "        if abs(y-x) < 0.00001:",
      "            break",
      "        x = y",
      "    print y    "
     ],
     "language": "python",
     "outputs": [],
     "prompt_number": 14
    },
    {
     "cell_type": "code",
     "collapsed": false,
     "input": [
      "square_root(49.0)"
     ],
     "language": "python",
     "outputs": [
      {
       "output_type": "stream",
       "stream": "stdout",
       "text": [
        "7.0"
       ]
      }
     ],
     "prompt_number": 15
    },
    {
     "cell_type": "plaintext",
     "source": [
      "Exercise 7.4 The built-in function eval takes a string and evaluates it using the Python interpreter. For example:",
      ">>> eval('1 + 2 * 3')",
      "7",
      ">>> import math",
      ">>> eval('math.sqrt(5)') ",
      "2.2360679774997898",
      ">>> eval('type(math.pi)') ",
      "<type 'float'>",
      "Write a function called eval_loop that iteratively prompts the user, takes the resulting input and evaluates it using eval, and prints the result.",
      "It should continue until the user enters 'done', and then return the value of the last expression it evaluated."
     ]
    },
    {
     "cell_type": "plaintext",
     "source": [
      "This exercise is best accomplished in a separate code file because of the prompting..."
     ]
    },
    {
     "cell_type": "code",
     "collapsed": true,
     "input": [],
     "language": "python",
     "outputs": []
    }
   ]
  }
 ]
}