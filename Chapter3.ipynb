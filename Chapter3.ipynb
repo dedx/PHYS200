{
 "metadata": {
  "name": "Chapter3"
 },
 "nbformat": 3,
 "worksheets": [
  {
   "cells": [
    {
     "cell_type": "code",
     "collapsed": false,
     "input": [
      "print math"
     ],
     "language": "python",
     "outputs": [
      {
       "output_type": "stream",
       "stream": "stdout",
       "text": [
        "<module 'math' from '/Library/Frameworks/EPD64.framework/Versions/7.2/lib/python2.7/lib-dynload/math.so'>"
       ]
      }
     ],
     "prompt_number": 1
    },
    {
     "cell_type": "plaintext",
     "source": [
      "Notebooks must have the math module loaded by default."
     ]
    },
    {
     "cell_type": "code",
     "collapsed": false,
     "input": [
      "math.sqrt(2.)/2."
     ],
     "language": "python",
     "outputs": [
      {
       "output_type": "pyout",
       "prompt_number": 2,
       "text": [
        "0.7071067811865476"
       ]
      }
     ],
     "prompt_number": 2
    },
    {
     "cell_type": "code",
     "collapsed": false,
     "input": [
      "sqrt(2.)/2."
     ],
     "language": "python",
     "outputs": [
      {
       "output_type": "pyout",
       "prompt_number": 3,
       "text": [
        "0.70710678118654757"
       ]
      }
     ],
     "prompt_number": 3
    },
    {
     "cell_type": "code",
     "collapsed": false,
     "input": [
      "def print_lyrics(): #colon is necessary",
      "    print \"I'm a bunny rabbit and I hop around\"",
      "    print \"and lead a parade all over town.\"",
      "    #empty line necessary in notebook or interactive mode"
     ],
     "language": "python",
     "outputs": [],
     "prompt_number": 14
    },
    {
     "cell_type": "code",
     "collapsed": false,
     "input": [
      "print_lyrics()"
     ],
     "language": "python",
     "outputs": [
      {
       "output_type": "stream",
       "stream": "stdout",
       "text": [
        "I'm a bunny rabbit and I hop around",
        "and lead a parade all over town."
       ]
      }
     ],
     "prompt_number": 10
    },
    {
     "cell_type": "code",
     "collapsed": false,
     "input": [
      "def repeat_lyrics():",
      "    print_lyrics()",
      "    print_lyrics()",
      "    "
     ],
     "language": "python",
     "outputs": [],
     "prompt_number": 28
    },
    {
     "cell_type": "code",
     "collapsed": false,
     "input": [
      "repeat_lyrics()"
     ],
     "language": "python",
     "outputs": [
      {
       "output_type": "stream",
       "stream": "stdout",
       "text": [
        "I'm a lumberjack, and I'm okay.",
        "I sleep all night and I work all day.",
        "I'm a lumberjack, and I'm okay.",
        "I sleep all night and I work all day."
       ]
      }
     ],
     "prompt_number": 27
    },
    {
     "cell_type": "plaintext",
     "source": [
      "Exercise 3.1 Move the last line of this program to the top, so the function call appears before the definitions. Run the program and see what error message you get."
     ]
    },
    {
     "cell_type": "code",
     "collapsed": false,
     "input": [
      "repeat_lyrics()",
      "",
      "def print_lyrics():",
      "    print \"I'm a lumberjack, and I'm okay.\" ",
      "    print \"I sleep all night and I work all day.\"",
      "    ",
      "def repeat_lyrics(): ",
      "    print_lyrics() ",
      "    print_lyrics()",
      "    "
     ],
     "language": "python",
     "outputs": [
      {
       "output_type": "stream",
       "stream": "stdout",
       "text": [
        "I'm a lumberjack, and I'm okay.",
        "I sleep all night and I work all day.",
        "I'm a lumberjack, and I'm okay.",
        "I sleep all night and I work all day."
       ]
      }
     ],
     "prompt_number": 30
    },
    {
     "cell_type": "plaintext",
     "source": [
      "Doesn't seem to be an error in notebooks because the information has already been defined."
     ]
    },
    {
     "cell_type": "plaintext",
     "source": [
      "Exercise 3.2 Move the function call back to the bottom and move the definition of print_lyrics after the definition of repeat_lyrics. What happens when you run this program?"
     ]
    },
    {
     "cell_type": "code",
     "collapsed": false,
     "input": [
      "def repeat_lyrics(): ",
      "    print_lyrics() ",
      "    print_lyrics()",
      "    ",
      "def print_lyrics():",
      "    print \"I'm a lumberjack, and I'm okay.\" ",
      "    print \"I sleep all night and I work all day.\"",
      " ",
      "repeat_lyrics()"
     ],
     "language": "python",
     "outputs": [
      {
       "output_type": "stream",
       "stream": "stdout",
       "text": [
        "I'm a lumberjack, and I'm okay.",
        "I sleep all night and I work all day.",
        "I'm a lumberjack, and I'm okay.",
        "I sleep all night and I work all day."
       ]
      }
     ],
     "prompt_number": 31
    },
    {
     "cell_type": "plaintext",
     "source": [
      "No error because we're in a notebook"
     ]
    },
    {
     "cell_type": "code",
     "collapsed": true,
     "input": [
      "def print_twice(bruce):",
      "    print bruce",
      "    print bruce",
      "    ",
      "def cat_twice(part1, part2): ",
      "    cat = part1 + part2 ",
      "    print_twice(cat)",
      "    "
     ],
     "language": "python",
     "outputs": [],
     "prompt_number": 32
    },
    {
     "cell_type": "code",
     "collapsed": false,
     "input": [
      "cat_twice(\"my foot\",'15')"
     ],
     "language": "python",
     "outputs": [
      {
       "output_type": "stream",
       "stream": "stdout",
       "text": [
        "my foot15",
        "my foot15"
       ]
      }
     ],
     "prompt_number": 34
    },
    {
     "cell_type": "code",
     "collapsed": false,
     "input": [
      "print cat"
     ],
     "language": "python",
     "outputs": [
      {
       "ename": "NameError",
       "evalue": "name 'cat' is not defined",
       "output_type": "pyerr",
       "traceback": [
        "\u001b[0;31m---------------------------------------------------------------------------\u001b[0m\n\u001b[0;31mNameError\u001b[0m                                 Traceback (most recent call last)",
        "\u001b[0;32m/Users/jklay/PHYS200/<ipython-input-35-1a29d5e57f81>\u001b[0m in \u001b[0;36m<module>\u001b[0;34m()\u001b[0m\n\u001b[0;32m----> 1\u001b[0;31m \u001b[0;32mprint\u001b[0m \u001b[0mcat\u001b[0m\u001b[0;34m\u001b[0m\u001b[0m\n\u001b[0m",
        "\u001b[0;31mNameError\u001b[0m: name 'cat' is not defined"
       ]
      }
     ],
     "prompt_number": 35
    },
    {
     "cell_type": "code",
     "collapsed": false,
     "input": [
      "result = print_twice('Bing')"
     ],
     "language": "python",
     "outputs": [
      {
       "output_type": "stream",
       "stream": "stdout",
       "text": [
        "Bing",
        "Bing"
       ]
      }
     ],
     "prompt_number": 36
    },
    {
     "cell_type": "code",
     "collapsed": false,
     "input": [
      "print result"
     ],
     "language": "python",
     "outputs": [
      {
       "output_type": "stream",
       "stream": "stdout",
       "text": [
        "None"
       ]
      }
     ],
     "prompt_number": 37
    },
    {
     "cell_type": "code",
     "collapsed": false,
     "input": [
      "print type(None)"
     ],
     "language": "python",
     "outputs": [
      {
       "output_type": "stream",
       "stream": "stdout",
       "text": [
        "<type 'NoneType'>"
       ]
      }
     ],
     "prompt_number": 38
    },
    {
     "cell_type": "plaintext",
     "source": [
      "Exercise3.3 Python provides a built-in function called len that returns the length of a string, so the",
      "value of len('allen') is 5.",
      "Write a function named right_justify that takes a string named s as a parameter and prints the",
      "string with enough leading spaces so that the last letter of the string is in column 70 of the display."
     ]
    },
    {
     "cell_type": "code",
     "collapsed": true,
     "input": [
      "def right_justify(mytext):",
      "    textlen = len(mytext)",
      "    maxlength = 70",
      "    numspaces = maxlength - textlen",
      "    print numspaces*' ' + mytext",
      "    "
     ],
     "language": "python",
     "outputs": [],
     "prompt_number": 39
    },
    {
     "cell_type": "code",
     "collapsed": false,
     "input": [
      "right_justify(\"you did it!\")"
     ],
     "language": "python",
     "outputs": [
      {
       "output_type": "stream",
       "stream": "stdout",
       "text": [
        "                                                           you did it!"
       ]
      }
     ],
     "prompt_number": 40
    },
    {
     "cell_type": "code",
     "collapsed": false,
     "input": [
      "right_justify(\"I did?\")"
     ],
     "language": "python",
     "outputs": [
      {
       "output_type": "stream",
       "stream": "stdout",
       "text": [
        "                                                                I did?"
       ]
      }
     ],
     "prompt_number": 41
    },
    {
     "cell_type": "code",
     "collapsed": false,
     "input": [
      "right_justify(\"YES!\")"
     ],
     "language": "python",
     "outputs": [
      {
       "output_type": "stream",
       "stream": "stdout",
       "text": [
        "                                                                  YES!"
       ]
      }
     ],
     "prompt_number": 42
    },
    {
     "cell_type": "code",
     "collapsed": false,
     "input": [
      "right_justify(\"Hot damn.\")"
     ],
     "language": "python",
     "outputs": [
      {
       "output_type": "stream",
       "stream": "stdout",
       "text": [
        "                                                             Hot damn."
       ]
      }
     ],
     "prompt_number": 43
    },
    {
     "cell_type": "plaintext",
     "source": [
      "Exercise 3.4 A function object is a value you can assign to a variable or pass as an argument. For example, do_twice is a function that takes a function object as an argument and calls it twice:",
      "def do_twice(f): ",
      "    f()",
      "    f()",
      "",
      "Here\u2019s an example that uses do_twice to call a function named print_spam twice. ",
      "def print_spam():",
      "print 'spam' ",
      "",
      "do_twice(print_spam)"
     ]
    },
    {
     "cell_type": "plaintext",
     "source": [
      "1. Type this example into a script and test it."
     ]
    },
    {
     "cell_type": "code",
     "collapsed": false,
     "input": [
      "def do_twice(f): ",
      "    f()",
      "    f()",
      "    ",
      "def print_spam():",
      "    print 'spam' ",
      "",
      "do_twice(print_spam)"
     ],
     "language": "python",
     "outputs": [
      {
       "output_type": "stream",
       "stream": "stdout",
       "text": [
        "spam",
        "spam"
       ]
      }
     ],
     "prompt_number": 45
    },
    {
     "cell_type": "plaintext",
     "source": [
      "2. Modify do_twice so that it takes two arguments, a function object and a value, and calls the function twice, passing the value as an argument."
     ]
    },
    {
     "cell_type": "code",
     "collapsed": true,
     "input": [
      "def do_twice2(f,val):",
      "    f(val)",
      "    f(val)",
      "    "
     ],
     "language": "python",
     "outputs": [],
     "prompt_number": 46
    },
    {
     "cell_type": "code",
     "collapsed": false,
     "input": [
      "do_twice2(print_twice,'Bing')"
     ],
     "language": "python",
     "outputs": [
      {
       "output_type": "stream",
       "stream": "stdout",
       "text": [
        "Bing",
        "Bing",
        "Bing",
        "Bing"
       ]
      }
     ],
     "prompt_number": 47
    },
    {
     "cell_type": "plaintext",
     "source": [
      "3. Write a more general version of print_spam, called print_twice, that takes a string as a parameter and prints it twice."
     ]
    },
    {
     "cell_type": "plaintext",
     "source": [
      "Already have that function defined"
     ]
    },
    {
     "cell_type": "plaintext",
     "source": [
      "4. Use the modified version of do_twice to call print_twice twice, passing 'spam' as an argument."
     ]
    },
    {
     "cell_type": "code",
     "collapsed": false,
     "input": [
      "do_twice2(print_twice,'spam')"
     ],
     "language": "python",
     "outputs": [
      {
       "output_type": "stream",
       "stream": "stdout",
       "text": [
        "spam",
        "spam",
        "spam",
        "spam"
       ]
      }
     ],
     "prompt_number": 48
    },
    {
     "cell_type": "plaintext",
     "source": [
      "5. Define a new function called do_four that takes a function object and a value and calls the function four times, passing the value as a parameter. There should be only two statements in the body of this function, not four."
     ]
    },
    {
     "cell_type": "code",
     "collapsed": true,
     "input": [
      "def do_four(func,val):",
      "    do_twice2(func,val)"
     ],
     "language": "python",
     "outputs": [],
     "prompt_number": 49
    },
    {
     "cell_type": "code",
     "collapsed": false,
     "input": [
      "do_four(print_twice,\"me\")"
     ],
     "language": "python",
     "outputs": [
      {
       "output_type": "stream",
       "stream": "stdout",
       "text": [
        "me",
        "me",
        "me",
        "me"
       ]
      }
     ],
     "prompt_number": 50
    },
    {
     "cell_type": "plaintext",
     "source": [
      "Exercise 3.5 This exercise2 can be done using only the statements and other features we have",
      "learned so far.",
      "1. Write a function that draws a grid like the following:",
      "+----+----+ ",
      "|    |    | ",
      "|    |    | ",
      "|    |    | ",
      "|    |    | ",
      "+----+----+ ",
      "|    |    | ",
      "|    |    | ",
      "|    |    | ",
      "|    |    | ",
      "+----+----+",
      "Hint: to print more than one value on a line, you can print a comma-separated sequence:",
      "print '+', '-'",
      "If the sequence ends with a comma, Python leaves the line unfinished, so the value printed next appears on the same line.",
      "print '+', print '-'",
      "The output of these statements is '+ -'.",
      "A print statement all by itself ends the current line and goes to the next line."
     ]
    },
    {
     "cell_type": "code",
     "collapsed": true,
     "input": [
      "def column():",
      "    print '+','-'*4,",
      "    ",
      "def row():",
      "    print '|',' '*4,'|',' '*4,'|'",
      "",
      "def printgrid1():",
      "    do_twice(column)",
      "    print '+'",
      "    do_twice(row)",
      "    do_twice(row)",
      "    do_twice(column)",
      "    print '+'",
      "    do_twice(row)",
      "    do_twice(row)",
      "    do_twice(column)",
      "    print '+'",
      "    "
     ],
     "language": "python",
     "outputs": [],
     "prompt_number": 118
    },
    {
     "cell_type": "code",
     "collapsed": false,
     "input": [
      "printgrid1()"
     ],
     "language": "python",
     "outputs": [
      {
       "output_type": "stream",
       "stream": "stdout",
       "text": [
        "+ ---- + ---- +",
        "|      |      |",
        "|      |      |",
        "|      |      |",
        "|      |      |",
        "+ ---- + ---- +",
        "|      |      |",
        "|      |      |",
        "|      |      |",
        "|      |      |",
        "+ ---- + ---- +"
       ]
      }
     ],
     "prompt_number": 119
    },
    {
     "cell_type": "plaintext",
     "source": [
      "2. Use the previous function to draw a similar grid with four rows and four columns."
     ]
    },
    {
     "cell_type": "code",
     "collapsed": true,
     "input": [
      "def printgrid2():",
      "    do_twice(column)",
      "    do_twice(column)",
      "    print '+'",
      "    do_twice(row)",
      "    do_twice(row)",
      "    do_twice(column)",
      "    do_twice(column)",
      "    print '+'",
      "    do_twice(row)",
      "    do_twice(row)",
      "    do_twice(column)",
      "    do_twice(column)",
      "    print '+'"
     ],
     "language": "python",
     "outputs": [],
     "prompt_number": 135
    },
    {
     "cell_type": "code",
     "collapsed": false,
     "input": [
      "printgrid2()"
     ],
     "language": "python",
     "outputs": [
      {
       "output_type": "stream",
       "stream": "stdout",
       "text": [
        "+ ---- + ---- + ---- + ---- +",
        "|      |      |",
        "|      |      |",
        "|      |      |",
        "|      |      |",
        "+ ---- + ---- + ---- + ---- +",
        "|      |      |",
        "|      |      |",
        "|      |      |",
        "|      |      |",
        "+ ---- + ---- + ---- + ---- +"
       ]
      }
     ],
     "prompt_number": 136
    },
    {
     "cell_type": "code",
     "collapsed": true,
     "input": [],
     "language": "python",
     "outputs": []
    }
   ]
  }
 ]
}