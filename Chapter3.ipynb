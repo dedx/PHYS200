{
 "metadata": {
  "name": "Chapter3"
 },
 "nbformat": 3,
 "worksheets": [
  {
   "cells": [
    {
     "cell_type": "code",
     "collapsed": false,
     "input": [
      "print math"
     ],
     "language": "python",
     "outputs": [
      {
       "output_type": "stream",
       "stream": "stdout",
       "text": [
        "<module 'math' from '/Library/Frameworks/EPD64.framework/Versions/7.2/lib/python2.7/lib-dynload/math.so'>"
       ]
      }
     ],
     "prompt_number": 1
    },
    {
     "cell_type": "plaintext",
     "source": [
      "Notebooks must have the math module loaded by default."
     ]
    },
    {
     "cell_type": "code",
     "collapsed": false,
     "input": [
      "math.sqrt(2.)/2."
     ],
     "language": "python",
     "outputs": [
      {
       "output_type": "pyout",
       "prompt_number": 2,
       "text": [
        "0.7071067811865476"
       ]
      }
     ],
     "prompt_number": 2
    },
    {
     "cell_type": "code",
     "collapsed": false,
     "input": [
      "sqrt(2.)/2."
     ],
     "language": "python",
     "outputs": [
      {
       "output_type": "pyout",
       "prompt_number": 3,
       "text": [
        "0.70710678118654757"
       ]
      }
     ],
     "prompt_number": 3
    },
    {
     "cell_type": "code",
     "collapsed": false,
     "input": [
      "def print_lyrics(): #colon is necessary",
      "    print \"I'm a bunny rabbit and I hop around\"",
      "    print \"and lead a parade all over town.\"",
      "    #empty line necessary in notebook or interactive mode"
     ],
     "language": "python",
     "outputs": [],
     "prompt_number": 14
    },
    {
     "cell_type": "code",
     "collapsed": false,
     "input": [
      "print_lyrics()"
     ],
     "language": "python",
     "outputs": [
      {
       "output_type": "stream",
       "stream": "stdout",
       "text": [
        "I'm a bunny rabbit and I hop around",
        "and lead a parade all over town."
       ]
      }
     ],
     "prompt_number": 10
    },
    {
     "cell_type": "code",
     "collapsed": false,
     "input": [
      "def repeat_lyrics():",
      "    print_lyrics()",
      "    print_lyrics()",
      "    "
     ],
     "language": "python",
     "outputs": [],
     "prompt_number": 28
    },
    {
     "cell_type": "code",
     "collapsed": false,
     "input": [
      "repeat_lyrics()"
     ],
     "language": "python",
     "outputs": [
      {
       "output_type": "stream",
       "stream": "stdout",
       "text": [
        "I'm a lumberjack, and I'm okay.",
        "I sleep all night and I work all day.",
        "I'm a lumberjack, and I'm okay.",
        "I sleep all night and I work all day."
       ]
      }
     ],
     "prompt_number": 27
    },
    {
     "cell_type": "plaintext",
     "source": [
      "Exercise 3.1 Move the last line of this program to the top, so the function call appears before the definitions. Run the program and see what error message you get."
     ]
    },
    {
     "cell_type": "code",
     "collapsed": false,
     "input": [
      "repeat_lyrics()",
      "",
      "def print_lyrics():",
      "    print \"I'm a lumberjack, and I'm okay.\" ",
      "    print \"I sleep all night and I work all day.\"",
      "    ",
      "def repeat_lyrics(): ",
      "    print_lyrics() ",
      "    print_lyrics()",
      "    "
     ],
     "language": "python",
     "outputs": [
      {
       "output_type": "stream",
       "stream": "stdout",
       "text": [
        "I'm a lumberjack, and I'm okay.",
        "I sleep all night and I work all day.",
        "I'm a lumberjack, and I'm okay.",
        "I sleep all night and I work all day."
       ]
      }
     ],
     "prompt_number": 30
    },
    {
     "cell_type": "plaintext",
     "source": [
      "Doesn't seem to be an error in notebooks because the information has already been defined."
     ]
    },
    {
     "cell_type": "plaintext",
     "source": [
      "Exercise 3.2 Move the function call back to the bottom and move the definition of print_lyrics after the definition of repeat_lyrics. What happens when you run this program?"
     ]
    },
    {
     "cell_type": "code",
     "collapsed": false,
     "input": [
      "def repeat_lyrics(): ",
      "    print_lyrics() ",
      "    print_lyrics()",
      "    ",
      "def print_lyrics():",
      "    print \"I'm a lumberjack, and I'm okay.\" ",
      "    print \"I sleep all night and I work all day.\"",
      " ",
      "repeat_lyrics()"
     ],
     "language": "python",
     "outputs": [
      {
       "output_type": "stream",
       "stream": "stdout",
       "text": [
        "I'm a lumberjack, and I'm okay.",
        "I sleep all night and I work all day.",
        "I'm a lumberjack, and I'm okay.",
        "I sleep all night and I work all day."
       ]
      }
     ],
     "prompt_number": 31
    },
    {
     "cell_type": "plaintext",
     "source": [
      "No error because we're in a notebook"
     ]
    },
    {
     "cell_type": "code",
     "collapsed": true,
     "input": [
      "def print_twice(bruce):",
      "    print bruce",
      "    print bruce",
      "    ",
      "def cat_twice(part1, part2): ",
      "    cat = part1 + part2 ",
      "    print_twice(cat)",
      "    "
     ],
     "language": "python",
     "outputs": [],
     "prompt_number": 32
    },
    {
     "cell_type": "code",
     "collapsed": false,
     "input": [
      "cat_twice(\"my foot\",'15')"
     ],
     "language": "python",
     "outputs": [
      {
       "output_type": "stream",
       "stream": "stdout",
       "text": [
        "my foot15",
        "my foot15"
       ]
      }
     ],
     "prompt_number": 34
    },
    {
     "cell_type": "code",
     "collapsed": false,
     "input": [
      "print cat"
     ],
     "language": "python",
     "outputs": [
      {
       "ename": "NameError",
       "evalue": "name 'cat' is not defined",
       "output_type": "pyerr",
       "traceback": [
        "\u001b[0;31m---------------------------------------------------------------------------\u001b[0m\n\u001b[0;31mNameError\u001b[0m                                 Traceback (most recent call last)",
        "\u001b[0;32m/Users/jklay/PHYS200/<ipython-input-35-1a29d5e57f81>\u001b[0m in \u001b[0;36m<module>\u001b[0;34m()\u001b[0m\n\u001b[0;32m----> 1\u001b[0;31m \u001b[0;32mprint\u001b[0m \u001b[0mcat\u001b[0m\u001b[0;34m\u001b[0m\u001b[0m\n\u001b[0m",
        "\u001b[0;31mNameError\u001b[0m: name 'cat' is not defined"
       ]
      }
     ],
     "prompt_number": 35
    },
    {
     "cell_type": "code",
     "collapsed": false,
     "input": [
      "result = print_twice('Bing')"
     ],
     "language": "python",
     "outputs": [
      {
       "output_type": "stream",
       "stream": "stdout",
       "text": [
        "Bing",
        "Bing"
       ]
      }
     ],
     "prompt_number": 36
    },
    {
     "cell_type": "code",
     "collapsed": false,
     "input": [
      "print result"
     ],
     "language": "python",
     "outputs": [
      {
       "output_type": "stream",
       "stream": "stdout",
       "text": [
        "None"
       ]
      }
     ],
     "prompt_number": 37
    },
    {
     "cell_type": "code",
     "collapsed": false,
     "input": [
      "print type(None)"
     ],
     "language": "python",
     "outputs": [
      {
       "output_type": "stream",
       "stream": "stdout",
       "text": [
        "<type 'NoneType'>"
       ]
      }
     ],
     "prompt_number": 38
    },
    {
     "cell_type": "plaintext",
     "source": [
      "Exercise3.3 Python provides a built-in function called len that returns the length of a string, so the",
      "value of len('allen') is 5.",
      "Write a function named right_justify that takes a string named s as a parameter and prints the",
      "string with enough leading spaces so that the last letter of the string is in column 70 of the display."
     ]
    },
    {
     "cell_type": "code",
     "collapsed": true,
     "input": [
      "def right_justify(mytext):",
      "    textlen = len(mytext)",
      "    maxlength = 70",
      "    numspaces = maxlength - textlen",
      "    print numspaces*' ' + mytext",
      "    "
     ],
     "language": "python",
     "outputs": [],
     "prompt_number": 39
    },
    {
     "cell_type": "code",
     "collapsed": false,
     "input": [
      "right_justify(\"you did it!\")"
     ],
     "language": "python",
     "outputs": [
      {
       "output_type": "stream",
       "stream": "stdout",
       "text": [
        "                                                           you did it!"
       ]
      }
     ],
     "prompt_number": 40
    },
    {
     "cell_type": "code",
     "collapsed": false,
     "input": [
      "right_justify(\"I did?\")"
     ],
     "language": "python",
     "outputs": [
      {
       "output_type": "stream",
       "stream": "stdout",
       "text": [
        "                                                                I did?"
       ]
      }
     ],
     "prompt_number": 41
    },
    {
     "cell_type": "code",
     "collapsed": false,
     "input": [
      "right_justify(\"YES!\")"
     ],
     "language": "python",
     "outputs": [
      {
       "output_type": "stream",
       "stream": "stdout",
       "text": [
        "                                                                  YES!"
       ]
      }
     ],
     "prompt_number": 42
    },
    {
     "cell_type": "code",
     "collapsed": false,
     "input": [
      "right_justify(\"Hot damn.\")"
     ],
     "language": "python",
     "outputs": [
      {
       "output_type": "stream",
       "stream": "stdout",
       "text": [
        "                                                             Hot damn."
       ]
      }
     ],
     "prompt_number": 43
    },
    {
     "cell_type": "code",
     "collapsed": true,
     "input": [],
     "language": "python",
     "outputs": []
    }
   ]
  }
 ]
}